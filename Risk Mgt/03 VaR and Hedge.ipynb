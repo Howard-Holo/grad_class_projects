{
 "cells": [
  {
   "cell_type": "code",
   "execution_count": 1,
   "id": "d35c3172",
   "metadata": {},
   "outputs": [],
   "source": [
    "from scipy.stats import multivariate_normal as mvn\n",
    "from scipy.stats import norm\n",
    "from scipy.stats import chi2\n",
    "import numpy as np\n",
    "import pandas as pd\n",
    "from scipy import optimize\n",
    "import math"
   ]
  },
  {
   "cell_type": "code",
   "execution_count": 10,
   "id": "c3192daa",
   "metadata": {},
   "outputs": [
    {
     "name": "stdout",
     "output_type": "stream",
     "text": [
      "annual VaR at 0.05 : -147.555\n",
      "monthly VaR at 0.05 : 9.1507\n",
      "daily VaR at 0.05 : 5.5794\n"
     ]
    }
   ],
   "source": [
    "# one asset VaR, simpliest \n",
    "alpha = 0.05\n",
    "z_alpha = norm.ppf(alpha)\n",
    "\n",
    "# !!! ANNUAL parameters\n",
    "mean = 0.01 * 252\n",
    "std = 0.04 * math.sqrt(252)\n",
    "\n",
    "position = 100\n",
    "\n",
    "\n",
    "# parameter end\n",
    "\n",
    "VaR = - position * (mean + z_alpha * std)\n",
    "print(\"annual VaR at\", alpha, \":\", round(VaR, 4))\n",
    "VaR = - position * (mean/12 + z_alpha * std/math.sqrt(12))\n",
    "print(\"monthly VaR at\", alpha, \":\", round(VaR, 4))\n",
    "VaR = - position * (mean/252 + z_alpha * std/math.sqrt(252))\n",
    "print(\"daily VaR at\", alpha, \":\", round(VaR, 4))"
   ]
  },
  {
   "cell_type": "code",
   "execution_count": 11,
   "id": "35364a87",
   "metadata": {},
   "outputs": [
    {
     "name": "stdout",
     "output_type": "stream",
     "text": [
      "annual VaR of portfolio: 28.8395\n"
     ]
    }
   ],
   "source": [
    "# 2 assets portfolio VaR\n",
    "mean1 = 1/100\n",
    "mean2 = 0.5/100\n",
    "\n",
    "std1 = 4/100\n",
    "std2 = 7/100\n",
    "corr = 0.25\n",
    "\n",
    "position1 = 100\n",
    "position2 = 250 \n",
    "\n",
    "\n",
    "z_alpha = norm.ppf(0.05)\n",
    "\n",
    "# parameter end\n",
    "p = np.array([position1, position2])\n",
    "m = np.array([mean1, mean2])\n",
    "v = np.array([[std1 ** 2, corr * std1 * std2],\n",
    "              [corr * std1 * std2, std2 ** 2]])\n",
    "\n",
    "\n",
    "position = p.sum()\n",
    "mean = np.dot(p, m)\n",
    "std = math.sqrt(np.dot(np.dot(p, v), p))\n",
    "VaR = - (mean + z_alpha * std)\n",
    "print(\"annual VaR of portfolio:\", round(VaR, 4))"
   ]
  },
  {
   "cell_type": "code",
   "execution_count": 13,
   "id": "ec006934",
   "metadata": {},
   "outputs": [
    {
     "name": "stdout",
     "output_type": "stream",
     "text": [
      "marginal VaR: 0.1917\n",
      "portfolio VaR: 0.2552\n",
      "contribution of A to the total VaR: 0.6009\n",
      "\n",
      "new VaR: 38.3337\n"
     ]
    }
   ],
   "source": [
    "# marginal VaR and beta approach\n",
    "mean_A = 0.2\n",
    "mean_B = 0.1\n",
    "\n",
    "w_A = 0.8\n",
    "w_B = 0.2\n",
    "\n",
    "beta_A = 0.9\n",
    "beta_B = 1.4\n",
    "\n",
    "# beta1 = (w1*std1**2 + w2*rho*std1*std2)/(std_po**2)\n",
    "# beta2 = (w2*std2**2 + w1*rho*std1*std2)/(std_po**2)\n",
    "\n",
    "std_po = math.sqrt(0.07)\n",
    "\n",
    "new_po_A = 200\n",
    "\n",
    "z_alpha = norm.ppf(0.05)\n",
    "\n",
    "\n",
    "\n",
    "mean_po = w_A * mean_A + w_B * mean_B\n",
    "\n",
    "# marginal VaR\n",
    "mVaR_A = - (mean_A + z_alpha * beta_A * std_po)\n",
    "VaR_po = - (mean_po + z_alpha * std_po)\n",
    "print(\"marginal VaR:\", round(mVaR_A, 4))\n",
    "print(\"portfolio VaR:\", round(VaR_po, 4))\n",
    "print(\"contribution of A to the total VaR:\", round(mVaR_A*w_A/VaR_po, 4))\n",
    "print()\n",
    "\n",
    "# new VaR\n",
    "comp = new_po_A * mVaR_A\n",
    "print(\"new VaR:\", round(comp, 4))"
   ]
  },
  {
   "cell_type": "code",
   "execution_count": 5,
   "id": "91faed0c",
   "metadata": {},
   "outputs": [
    {
     "name": "stdout",
     "output_type": "stream",
     "text": [
      "unconditional coverage (LR_u): 52.8927 \t reject\n",
      "independence (LR_l): 57.7938 \t reject\n",
      "total test (LR_TOT): 110.6865 \t reject\n"
     ]
    }
   ],
   "source": [
    "# significance test (LRl, LRu)\n",
    "# N: number of total sample days\n",
    "# T: number of total days when loss was bigger than VaR (violation)\n",
    "# 01-seq: no/yes violation today(1st digit), and no/yes violation next day(2nd digit).\n",
    "\n",
    "N = 10339\n",
    "T = 364\n",
    "\n",
    "T00 = 9656\n",
    "T01 = 318\n",
    "T10 = 318\n",
    "T11 = 46\n",
    "\n",
    "alpha = 0.05\n",
    "\n",
    "\n",
    "p0 = (T00 + T01) / (T00 + T01 + T10 + T11)\n",
    "p1 = (T10 + T11) / (T00 + T01 + T10 + T11)\n",
    "p00 = T00 / (T00 + T01)\n",
    "p01 = T01 / (T00 + T01)\n",
    "p10 = T10 / (T10 + T11)\n",
    "p11 = T11 / (T10 + T11)\n",
    "\n",
    "LRu = 2 * math.log(((T/N)/alpha)**T * ((1-T/N)/(1-alpha))**(N-T))\n",
    "LRl = 2 * math.log((p00/p0)**T00 * (p01/p1)**T01 * (p10/p0)**T10 * (p11/p1)**T11)\n",
    "\n",
    "print(\"unconditional coverage (LR_u):\", round(LRu, 4), \"\\t\", \"reject\" if LRu>chi2.ppf(q=1-alpha, df=1) else \"do not reject\")\n",
    "print(\"independence (LR_l):\", round(LRl, 4), \"\\t\", \"reject\" if LRl>chi2.ppf(q=1-alpha, df=1) else \"do not reject\")\n",
    "print(\"total test (LR_TOT):\", round(LRu+LRl, 4), \"\\t\", \"reject\" if LRu+LRl>chi2.ppf(q=1-alpha, df=2) else \"do not reject\")"
   ]
  },
  {
   "cell_type": "code",
   "execution_count": null,
   "id": "fb821d85",
   "metadata": {},
   "outputs": [],
   "source": []
  },
  {
   "cell_type": "code",
   "execution_count": 6,
   "id": "83c9dc6b",
   "metadata": {},
   "outputs": [
    {
     "name": "stdout",
     "output_type": "stream",
     "text": [
      "hedge position with stock: -3060000.0\n",
      "\n",
      "Value of Future: 4328.7624\n",
      "optical number of contracts: -2.8465\n"
     ]
    }
   ],
   "source": [
    "# beta hedge, with stock\n",
    "position_exposure = 2040000\n",
    "beta_exposure = 1.5\n",
    "\n",
    "T = 4 / 12\n",
    "p_index = 4300\n",
    "num_per_cont = 250\n",
    "\n",
    "rf = 6 / 100\n",
    "q = 4 / 100\n",
    "\n",
    "# simple stock hedge\n",
    "h = beta_exposure\n",
    "position_hedge = -h * position_exposure\n",
    "print(\"hedge position with stock:\", round(position_hedge, 4))\n",
    "print()\n",
    "\n",
    "\n",
    "# simple future hedge\n",
    "value_future = p_index * math.exp(T * (rf - q))\n",
    "num_cont = - position_exposure * beta_exposure / (p_index * num_per_cont)\n",
    "\n",
    "print(\"Value of Future:\", round(value_future, 4))\n",
    "print(\"optical number of contracts:\", round(num_cont, 4))"
   ]
  },
  {
   "cell_type": "code",
   "execution_count": null,
   "id": "153a4bc7",
   "metadata": {},
   "outputs": [],
   "source": [
    "# basis risk\n",
    "# basis = S(A, T) - F(B, T)\n",
    "# basis = asset mismatch + maturity mismatch\n",
    "#       = (S(A, T) - S(B, T)) + (S(B, T) - F(B, T))"
   ]
  },
  {
   "cell_type": "code",
   "execution_count": null,
   "id": "7787729a",
   "metadata": {},
   "outputs": [],
   "source": [
    "# contango: E(St) < F0, the forward price is above expected spot price. E(rm) - rf < 0. profit on short forward is positive.\n",
    "# backwardation: E(St) > F0, the forward price is below expected spot price, E(rm) - rf > 0. profit on long forward is positive."
   ]
  },
  {
   "cell_type": "code",
   "execution_count": 7,
   "id": "f22481aa",
   "metadata": {},
   "outputs": [
    {
     "name": "stdout",
     "output_type": "stream",
     "text": [
      "optimal hedge ratio: 0.64\n",
      "position of B: 640000.0\n",
      "optical number of B contracts: 15.2381\n"
     ]
    }
   ],
   "source": [
    "# 2 assets hedge\n",
    "# A: undercovered assets\n",
    "# B: hedging instruments\n",
    "# rho: correlation\n",
    "\n",
    "position_A = -1000000   # will buy, so it is a short exposure\n",
    "\n",
    "std_A = 0.032\n",
    "std_B = 0.04\n",
    "rho_AB = 0.8\n",
    "\n",
    "num_per_cont_B = 42000\n",
    "\n",
    "\n",
    "h = rho_AB * std_A / std_B\n",
    "position_B = - position_A * h \n",
    "\n",
    "print(\"optimal hedge ratio:\", round(h, 4))\n",
    "print(\"position of B:\", round(position_B, 4))\n",
    "print(\"optical number of B contracts:\", round(position_B / num_per_cont_B, 4))"
   ]
  },
  {
   "cell_type": "code",
   "execution_count": 8,
   "id": "36b457b8",
   "metadata": {},
   "outputs": [
    {
     "name": "stdout",
     "output_type": "stream",
     "text": [
      "optimal hedge ratio: 0.6065\n"
     ]
    }
   ],
   "source": [
    "# hedge ratio with different maturities\n",
    "T1 = 1\n",
    "T2 = 6\n",
    "\n",
    "rf = 0.1\n",
    "\n",
    "u = 0\n",
    "y = 0\n",
    "\n",
    "h = math.exp(-(rf + u - y) * (T2 - T1))\n",
    "print(\"optimal hedge ratio:\", round(h, 4))\n",
    "\n",
    "# expected profit of futures: F0 * (1 - exp(beta(RM - Rf) * T))"
   ]
  },
  {
   "cell_type": "code",
   "execution_count": 9,
   "id": "cc989c0d",
   "metadata": {},
   "outputs": [
    {
     "name": "stdout",
     "output_type": "stream",
     "text": [
      "CaR with mu: 14.6463\n",
      "CaR without mu: 12.3364\n"
     ]
    }
   ],
   "source": [
    "# hedge Capital at Risk:\n",
    "S = 100\n",
    "rf = 0.06\n",
    "rm = 0.12\n",
    "beta = 1.5\n",
    "std_S = 0.15\n",
    "\n",
    "T_fwd = 3 / 12\n",
    "T_expo = 2\n",
    "\n",
    "z_alpha = norm.ppf(0.05)\n",
    "\n",
    "\n",
    "mu = S * math.exp(rf * T_fwd) * (1 - math.exp(beta * (rm - rf) * T_fwd))\n",
    "sig = S * std_S * math.sqrt(T_fwd)\n",
    "CaR = - (mu + z_alpha * sig)\n",
    "simCaR = - (z_alpha * sig)\n",
    "\n",
    "print(\"CaR with mu:\", round(CaR, 4))\n",
    "print(\"CaR without mu:\", round(simCaR, 4))"
   ]
  }
 ],
 "metadata": {
  "kernelspec": {
   "display_name": "Python 3",
   "language": "python",
   "name": "python3"
  },
  "language_info": {
   "codemirror_mode": {
    "name": "ipython",
    "version": 3
   },
   "file_extension": ".py",
   "mimetype": "text/x-python",
   "name": "python",
   "nbconvert_exporter": "python",
   "pygments_lexer": "ipython3",
   "version": "3.8.8"
  }
 },
 "nbformat": 4,
 "nbformat_minor": 5
}
