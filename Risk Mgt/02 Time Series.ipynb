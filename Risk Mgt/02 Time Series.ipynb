{
 "cells": [
  {
   "cell_type": "code",
   "execution_count": 1,
   "id": "d35c3172",
   "metadata": {},
   "outputs": [],
   "source": [
    "from scipy.stats import multivariate_normal as mvn\n",
    "from scipy.stats import norm\n",
    "from scipy.stats import chi2\n",
    "import numpy as np\n",
    "import pandas as pd\n",
    "from scipy import optimize\n",
    "import math"
   ]
  },
  {
   "cell_type": "code",
   "execution_count": 2,
   "id": "c3192daa",
   "metadata": {
    "scrolled": true
   },
   "outputs": [
    {
     "name": "stdout",
     "output_type": "stream",
     "text": [
      "V1: 0.9502\n",
      "V2: 0.8647\n",
      "U1: 1.6469\n",
      "U2: 1.1015\n",
      "\n",
      "Joint Probability by Copula: 0.838175\n"
     ]
    }
   ],
   "source": [
    "# Copula\n",
    "# V1, V2 shall be cdf of original prob function\n",
    "# rho is the copula correlation\n",
    "V1 = 1-math.exp(-3*1)\n",
    "V2 = 1-math.exp(-4*0.5)\n",
    "rho = 0.5\n",
    "\n",
    "\n",
    "\n",
    "print(\"V1:\", round(V1, 4))\n",
    "print(\"V2:\", round(V2, 4))\n",
    "\n",
    "\n",
    "U1 = norm.ppf(V1)\n",
    "U2 = norm.ppf(V2)\n",
    "\n",
    "print(\"U1:\", round(U1, 4))\n",
    "print(\"U2:\", round(U2, 4))\n",
    "print()\n",
    "\n",
    "# copula assumes a N(0, 1) for partial u1, u2.\n",
    "cop_corr = mvn.cdf([U1, U2],\n",
    "                    mean=[0, 0],  \n",
    "                    cov=[[1, rho],\n",
    "                         [rho, 1]])\n",
    "\n",
    "print(\"Joint Probability by Copula:\", round(cop_corr, 6))"
   ]
  },
  {
   "cell_type": "code",
   "execution_count": 3,
   "id": "35364a87",
   "metadata": {},
   "outputs": [
    {
     "name": "stdout",
     "output_type": "stream",
     "text": [
      "WCDR: 0.20962\n"
     ]
    }
   ],
   "source": [
    "# WCDR\n",
    "# PD: one year prob of default\n",
    "# sig: estimation worst case (confidence level)\n",
    "# rho: copula correlation\n",
    "\n",
    "rho = 0.2\n",
    "sig = 99.97 / 100\n",
    "PD = 1.2 / 100\n",
    "\n",
    "\n",
    "_u = (norm.ppf(PD) + math.sqrt(rho) * norm.ppf(sig)) / math.sqrt(1 - rho)\n",
    "WCDR = norm.cdf(_u)\n",
    "\n",
    "print(\"WCDR:\", round(WCDR, 6))"
   ]
  },
  {
   "cell_type": "code",
   "execution_count": null,
   "id": "620f7feb",
   "metadata": {},
   "outputs": [],
   "source": []
  },
  {
   "cell_type": "code",
   "execution_count": null,
   "id": "a8c23093",
   "metadata": {},
   "outputs": [],
   "source": []
  },
  {
   "cell_type": "code",
   "execution_count": 4,
   "id": "ec006934",
   "metadata": {},
   "outputs": [
    {
     "name": "stdout",
     "output_type": "stream",
     "text": [
      "std_1: 0.01284\n"
     ]
    }
   ],
   "source": [
    "# EWMA(1)\n",
    "# std_0 is DAILY std.\n",
    "\n",
    "lamb = 0.94\n",
    "\n",
    "std_0 = 1.3 / 100\n",
    "price_0 = 300\n",
    "price_1 = 303\n",
    "\n",
    "\n",
    "u_0 = price_1 / price_0 - 1\n",
    "_var_1 = lamb * math.pow(std_0, 2) + (1 - lamb) * math.pow(u_0, 2)\n",
    "std_1 = math.sqrt(_var_1)\n",
    "\n",
    "print(\"std_1:\", round(std_1, 6))"
   ]
  },
  {
   "cell_type": "code",
   "execution_count": 5,
   "id": "91faed0c",
   "metadata": {},
   "outputs": [
    {
     "name": "stdout",
     "output_type": "stream",
     "text": [
      "std_one: 0.015335\n",
      "std_L: 0.014142\n"
     ]
    }
   ],
   "source": [
    "# ARCH(m): var_1 = gamma*V_L + sigma(alpha_i * std_0**2)\n",
    "\n",
    "# GARCH(1, 1) Classic\n",
    "# std_0 is DAILY std.\n",
    "\n",
    "alpha = 0.13\n",
    "beta = 0.86\n",
    "w = 0.000002\n",
    "\n",
    "std_0 = 1.6 / 100\n",
    "price_0 = 300\n",
    "price_1 = price_0 * (1 + 0.01)\n",
    "\n",
    "\n",
    "\n",
    "u_0 = price_1 / price_0 - 1\n",
    "_var_1 = w + alpha * math.pow(u_0, 2) + beta * math.pow(std_0, 2)\n",
    "std_1 = math.sqrt(_var_1)\n",
    "\n",
    "var_L = w / (1 - alpha - beta)\n",
    "\n",
    "print(\"std_one:\", round(std_1, 6))\n",
    "print(\"std_L:\", round(math.sqrt(var_L), 6))"
   ]
  },
  {
   "cell_type": "code",
   "execution_count": 6,
   "id": "fb821d85",
   "metadata": {},
   "outputs": [
    {
     "name": "stdout",
     "output_type": "stream",
     "text": [
      "cov_1: -0.001167\n",
      "var_L: 0.0001\n"
     ]
    }
   ],
   "source": [
    "# GARCH(1, 1) Covariance\n",
    "# std_0 is DAILY std.\n",
    "\n",
    "alpha = 0.04\n",
    "beta = 0.93\n",
    "w = 0.000003\n",
    "\n",
    "std_x = 0.08\n",
    "std_y = 0.02\n",
    "corr_xy = -0.8\n",
    "\n",
    "cov_0 = corr_xy * (std_x * std_y)\n",
    "price_x0 = 100\n",
    "price_x1 = 102\n",
    "price_y0 = 100\n",
    "price_y1 = 102.5\n",
    "\n",
    "u_x0 = price_x1 / price_x0 - 1\n",
    "u_y0 = price_y1 / price_y0 - 1\n",
    "cov_1 = w + alpha * u_x0 * u_y0 + beta * cov_0\n",
    "var_L = w / (1 - alpha - beta)\n",
    "\n",
    "print(\"cov_1:\", round(cov_1, 6))\n",
    "print(\"var_L:\", round(var_L, 6))"
   ]
  },
  {
   "cell_type": "code",
   "execution_count": 7,
   "id": "83c9dc6b",
   "metadata": {},
   "outputs": [
    {
     "name": "stdout",
     "output_type": "stream",
     "text": [
      "std_L: 0.01\n",
      "estimate of 40 days DAILY std: 0.014708\n"
     ]
    }
   ],
   "source": [
    "# GARCH(1, 1) Long Forecast\n",
    "# std_0 is DAILY std.\n",
    "\n",
    "alpha = 0.04\n",
    "beta = 0.94\n",
    "w = 0.000002\n",
    "\n",
    "std_0 = 1.9 / 100\n",
    "t = 40\n",
    "\n",
    "\n",
    "var_L = w / (1 - alpha - beta)\n",
    "\n",
    "_var_t = var_L + math.pow(alpha + beta, t) * (math.pow(std_0, 2) - var_L)\n",
    "std_t = math.sqrt(_var_t)\n",
    "\n",
    "print(\"std_L:\", round(math.sqrt(var_L), 6))\n",
    "print(\"estimate of\", t, \"days DAILY std:\", round(std_t, 6))"
   ]
  },
  {
   "cell_type": "code",
   "execution_count": 8,
   "id": "f22481aa",
   "metadata": {},
   "outputs": [
    {
     "name": "stdout",
     "output_type": "stream",
     "text": [
      "std_L: 0.01\n",
      "Annualized std to price 20 days options: 0.185261\n"
     ]
    }
   ],
   "source": [
    "# GARCH(1, 1) change in Option's annual volatility\n",
    "# std_0 is DAILY std.\n",
    "\n",
    "alpha = 0.04\n",
    "beta = 0.94\n",
    "w = 0.000002\n",
    "\n",
    "std_0 = 0.012\n",
    "t = 20\n",
    "\n",
    "a = math.log(1 / (alpha + beta))\n",
    "var_L = w / (1 - alpha - beta)\n",
    "\n",
    "\n",
    "_var_t_an = 252 * (var_L + (1 - math.exp(-a * t)) / (a * t) * (math.pow(std_0, 2) - var_L))\n",
    "std_t_an = math.sqrt(_var_t_an)\n",
    "\n",
    "print(\"std_L:\", round(math.sqrt(var_L), 6))\n",
    "print(\"Annualized std to price\", t, \"days options:\", round(std_t_an, 6))"
   ]
  },
  {
   "cell_type": "code",
   "execution_count": 9,
   "id": "36b457b8",
   "metadata": {},
   "outputs": [
    {
     "name": "stdout",
     "output_type": "stream",
     "text": [
      "t: 20 \n",
      " change of std: 0.068771 \n",
      " new ANNUALIZED std on option: 0.294853\n"
     ]
    }
   ],
   "source": [
    "# GARCH(1, 1) Two Vol.\n",
    "# std_0, std_1 are DAILY std.\n",
    "\n",
    "alpha = 0.03\n",
    "beta = 0.95\n",
    "w = 0.000002\n",
    "\n",
    "std_0 = 1.5 / 100\n",
    "std_1 = 2 / 100\n",
    "t = 20\n",
    "\n",
    "\n",
    "a = math.log(1 / (alpha + beta))\n",
    "var_L = w / (1 - alpha - beta)\n",
    "_var_t_an = 252 * (var_L + (1 - math.exp(-a * t)) / (a * t) * (math.pow(std_0, 2) - var_L))\n",
    "std_tbar_an = math.sqrt(_var_t_an)\n",
    "_var_t = var_L + math.pow(alpha + beta, t) * (math.pow(std_0, 2) - var_L)\n",
    "delta_std_t_an = 252 * ((1 - math.exp(-a * t)) / (a * t)) * (std_0 / std_tbar_an) * (std_1 - std_0)\n",
    "\n",
    "\n",
    "print(\"t:\", t, '\\n',\n",
    "      \"change of std:\", round(delta_std_t_an, 6), '\\n', \n",
    "      \"new ANNUALIZED std on option:\", round(std_tbar_an + delta_std_t_an, 6))\n"
   ]
  },
  {
   "cell_type": "code",
   "execution_count": null,
   "id": "cc989c0d",
   "metadata": {},
   "outputs": [],
   "source": []
  },
  {
   "cell_type": "code",
   "execution_count": null,
   "id": "7787729a",
   "metadata": {},
   "outputs": [],
   "source": []
  }
 ],
 "metadata": {
  "kernelspec": {
   "display_name": "Python 3",
   "language": "python",
   "name": "python3"
  },
  "language_info": {
   "codemirror_mode": {
    "name": "ipython",
    "version": 3
   },
   "file_extension": ".py",
   "mimetype": "text/x-python",
   "name": "python",
   "nbconvert_exporter": "python",
   "pygments_lexer": "ipython3",
   "version": "3.8.8"
  }
 },
 "nbformat": 4,
 "nbformat_minor": 5
}
