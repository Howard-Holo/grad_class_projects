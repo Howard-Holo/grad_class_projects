{
 "cells": [
  {
   "cell_type": "code",
   "execution_count": 1,
   "id": "d35c3172",
   "metadata": {},
   "outputs": [],
   "source": [
    "from scipy.stats import multivariate_normal as mvn\n",
    "from scipy.stats import norm\n",
    "from scipy.stats import chi2\n",
    "import numpy as np\n",
    "import pandas as pd\n",
    "from scipy import optimize\n",
    "import math"
   ]
  },
  {
   "cell_type": "code",
   "execution_count": 4,
   "id": "c3192daa",
   "metadata": {},
   "outputs": [],
   "source": [
    "def d_desc(cf, r, t):\n",
    "    return cf * math.pow((1 + r), -t) \n",
    "def d_cont(cf, r, t):\n",
    "    return cf * math.exp(-r * t)"
   ]
  },
  {
   "cell_type": "code",
   "execution_count": 2,
   "id": "3312c7e0",
   "metadata": {},
   "outputs": [
    {
     "name": "stdout",
     "output_type": "stream",
     "text": [
      "Value of firm: 221.8279\n"
     ]
    }
   ],
   "source": [
    "# firm valuation using CAPM\n",
    "# beta_i = cov(ri, rm)/var(rm)\n",
    "\n",
    "E_CF = 250\n",
    "rf = 0.05\n",
    "E_rm = 0.12\n",
    "beta_i = 1.1\n",
    "\n",
    "\n",
    "V = E_CF / (1 + rf + beta_i*(E_rm - rf))\n",
    "\n",
    "print(\"Value of firm:\", round(V, 4))\n",
    "\n",
    "# forward price\n",
    "# S0 = E_St * math.exp(-(rf + beta_i * (E_rm - rf)) * T)\n",
    "# F0 = S0 * math.exp(rf * T)\n"
   ]
  },
  {
   "cell_type": "code",
   "execution_count": 3,
   "id": "8e882360",
   "metadata": {},
   "outputs": [
    {
     "name": "stdout",
     "output_type": "stream",
     "text": [
      "mean of portfolio: 0.17\n",
      "variance of portfolio: 0.3134\n",
      "\n",
      "beta of asset 1: 0.6138\n",
      "beta of asset 2: 1.1655\n"
     ]
    }
   ],
   "source": [
    "# market portfolio\n",
    "w1 = 0.3\n",
    "w2 = 0.7\n",
    "\n",
    "E_r1 = 0.1\n",
    "E_r2 = 0.2\n",
    "\n",
    "var_r1 = 0.25\n",
    "var_r2 = 0.45\n",
    "corr = 0.5\n",
    "cov_12 = corr * math.sqrt(var_r1 * var_r2)\n",
    "\n",
    "\n",
    "w = np.array([w1, w2])\n",
    "E_r = np.array([E_r1, E_r2])\n",
    "var_r = np.array([[var_r1, cov_12], \n",
    "                  [cov_12, var_r2]])\n",
    "\n",
    "# mean and variance\n",
    "E_port = np.dot(w, E_r)\n",
    "var_port = np.dot(np.dot(w, var_r), w)\n",
    "\n",
    "print(\"mean of portfolio:\", round(E_port, 4))\n",
    "print(\"variance of portfolio:\", round(var_port, 4))\n",
    "print()\n",
    "\n",
    "\n",
    "# beta\n",
    "beta = np.dot(w, var_r) / var_port\n",
    "print(\"beta of asset 1:\", round(beta[0], 4))\n",
    "print(\"beta of asset 2:\", round(beta[1], 4))"
   ]
  },
  {
   "cell_type": "code",
   "execution_count": null,
   "id": "4b7f797e",
   "metadata": {},
   "outputs": [],
   "source": [
    "# beta_i = cov(ri, rp) / var(rp)\n",
    "# for 2 stock situation:\n",
    "#      beta1 = (w1*std1**2 + w2*rho*std1*std2)/(std_po**2)\n",
    "#      beta2 = (w2*std2**2 + w1*rho*std1*std2)/(std_po**2)"
   ]
  },
  {
   "cell_type": "code",
   "execution_count": null,
   "id": "67f7a40f",
   "metadata": {},
   "outputs": [],
   "source": []
  },
  {
   "cell_type": "code",
   "execution_count": 5,
   "id": "35364a87",
   "metadata": {},
   "outputs": [
    {
     "name": "stdout",
     "output_type": "stream",
     "text": [
      "Present Value: 286.7925\n"
     ]
    }
   ],
   "source": [
    "# unhedged unlevered firm\n",
    "rf = 6 / 100\n",
    "\n",
    "P_up = 50 / 100\n",
    "P_down = 1 - P_up\n",
    "\n",
    "CF_up = 480\n",
    "CF_down = 200\n",
    "\n",
    "tax_rate = 40 / 100\n",
    "tax_hurdle = 300\n",
    "\n",
    "# parameter end\n",
    "\n",
    "\n",
    "def tax(CF, tax_r, hurdle):\n",
    "    return max(CF - hurdle, 0) * tax_r\n",
    "\n",
    "tax_up = tax(CF_up, tax_rate, tax_hurdle)\n",
    "tax_down = tax(CF_down, tax_rate, tax_hurdle)\n",
    "_E_CF_1 = P_up * (CF_up - tax_up) + P_down * (CF_down - tax_down)\n",
    "PV = d_desc(_E_CF_1, rf, 1)\n",
    "\n",
    "print(\"Present Value:\", round(PV, 4))"
   ]
  },
  {
   "cell_type": "code",
   "execution_count": 6,
   "id": "ec006934",
   "metadata": {},
   "outputs": [
    {
     "name": "stdout",
     "output_type": "stream",
     "text": [
      "Present Value: 305.6604\n"
     ]
    }
   ],
   "source": [
    "# hedged unlevered firm\n",
    "rf = 6 / 100\n",
    "\n",
    "P_up = 50 / 100\n",
    "P_down = 1 - P_up\n",
    "\n",
    "CF_up = 480\n",
    "CF_down = 200\n",
    "\n",
    "tax_rate = 40 / 100\n",
    "tax_hurdle = 300\n",
    "\n",
    "# parameter end\n",
    "\n",
    "\n",
    "def tax(CF, tax_r, hurdle):\n",
    "    return max(CF - hurdle, 0) * tax_r\n",
    "\n",
    "CF_rn = P_up * CF_up + P_down * CF_down\n",
    "_E_CF_1 = CF_rn - tax(CF_rn, tax_rate, tax_hurdle)\n",
    "PV = d_desc(_E_CF_1, rf, 1)\n",
    "\n",
    "print(\"Present Value:\", round(PV, 4))"
   ]
  },
  {
   "cell_type": "code",
   "execution_count": 7,
   "id": "91faed0c",
   "metadata": {},
   "outputs": [
    {
     "name": "stdout",
     "output_type": "stream",
     "text": [
      "Max riskless debt: 188.6792\n",
      "Present Value: 288.9284\n"
     ]
    }
   ],
   "source": [
    "# unhedged with optimal debt\n",
    "rf = 0.06\n",
    "\n",
    "P_up = 50 / 100\n",
    "P_down = 1 - P_up\n",
    "\n",
    "CF_up = 480\n",
    "CF_down = 200\n",
    "\n",
    "tax_rate = 40 / 100\n",
    "tax_hurdle = 300\n",
    "\n",
    "# parameter end\n",
    "\n",
    "\n",
    "def tax(CF, tax_r, hurdle):\n",
    "    return max(CF - hurdle, 0) * tax_r\n",
    "\n",
    "max_safe_debt = d_desc(min(CF_up, CF_down), rf, 1)\n",
    "\n",
    "tax_up = tax(CF_up - max_safe_debt * rf, tax_rate, tax_hurdle)\n",
    "tax_down = tax(CF_down - max_safe_debt * rf, tax_rate, tax_hurdle)\n",
    "_E_CF_1 = P_up * (CF_up - tax_up) + P_down * (CF_down - tax_down)\n",
    "PV = d_desc(_E_CF_1, rf, 1)\n",
    "\n",
    "print(\"Max riskless debt:\", round(max_safe_debt, 4))\n",
    "print(\"Present Value:\", round(PV, 4))"
   ]
  },
  {
   "cell_type": "code",
   "execution_count": 8,
   "id": "fb821d85",
   "metadata": {},
   "outputs": [
    {
     "name": "stdout",
     "output_type": "stream",
     "text": [
      "Max riskless debt: 312.7413\n",
      "Present Value: 312.7413\n"
     ]
    }
   ],
   "source": [
    "# hedged with optimal debt\n",
    "rf = 6 / 100\n",
    "\n",
    "P_up = 50 / 100\n",
    "P_down = 1 - P_up\n",
    "\n",
    "CF_up = 480\n",
    "CF_down = 200\n",
    "\n",
    "tax_rate = 40 / 100\n",
    "tax_hurdle = 300\n",
    "\n",
    "# parameter end\n",
    "\n",
    "\n",
    "def tax(CF, tax_r, hurdle):\n",
    "    return max(CF - hurdle, 0) * tax_r\n",
    "\n",
    "def mySolver(_sol_dbt):\n",
    "    CF_rn = P_up * CF_up + P_down * CF_down\n",
    "    lhs = d_desc(CF_rn - tax(CF_rn - _sol_dbt * rf, tax_rate, tax_hurdle), rf, 1)\n",
    "    rhs = _sol_dbt  \n",
    "    return lhs - rhs\n",
    "\n",
    "result = optimize.fsolve(mySolver, 1)\n",
    "max_safe_debt = result[0]\n",
    "PV = mySolver(max_safe_debt) + max_safe_debt\n",
    "\n",
    "print(\"Max riskless debt:\", round(max_safe_debt, 4))\n",
    "print(\"Present Value:\", round(PV, 4))"
   ]
  },
  {
   "cell_type": "code",
   "execution_count": 9,
   "id": "83c9dc6b",
   "metadata": {},
   "outputs": [
    {
     "name": "stdout",
     "output_type": "stream",
     "text": [
      "YTM: 0.347273\n",
      "Present Value: 287.0566\n"
     ]
    }
   ],
   "source": [
    "# unhedged with distinct debt\n",
    "rf = 0.06\n",
    "\n",
    "P_up = 50 / 100\n",
    "P_down = 1 - P_up\n",
    "\n",
    "CF_up = 480\n",
    "CF_down = 200\n",
    "\n",
    "debt = 220\n",
    "bkupt = 30\n",
    "\n",
    "tax_rate = 40 / 100\n",
    "tax_hurdle = 300\n",
    "\n",
    "# parameter end\n",
    "\n",
    "\n",
    "def tax(CF, tax_r, hurdle):\n",
    "    return max(CF - hurdle, 0) * tax_r\n",
    "\n",
    "def mySolver(_sol_ytm):\n",
    "    lhs = P_up * d_desc(debt, _sol_ytm, -1) + P_down * (CF_down - bkupt)\n",
    "    rhs = d_desc(debt, rf, -1) \n",
    "    return lhs - rhs\n",
    "\n",
    "result = optimize.fsolve(mySolver, 1)\n",
    "ytm = result[0]\n",
    "\n",
    "_CF_up = CF_up - tax(CF_up - debt * ytm, tax_rate, tax_hurdle)\n",
    "_CF_down = CF_down - bkupt\n",
    "_E_CF_1 = P_up * _CF_up + P_down * _CF_down\n",
    "PV = d_desc(_E_CF_1, rf, 1)\n",
    "\n",
    "print(\"YTM:\", round(ytm, 6))\n",
    "print(\"Present Value:\", round(PV, 4))"
   ]
  },
  {
   "cell_type": "code",
   "execution_count": 10,
   "id": "f22481aa",
   "metadata": {},
   "outputs": [
    {
     "name": "stdout",
     "output_type": "stream",
     "text": [
      "Debt: 305.0239\n",
      "YTM: 0.562667\n",
      "Present Value: 305.0239\n"
     ]
    }
   ],
   "source": [
    "# unhedged with unknown debtm, considering bankuptcy\n",
    "rf = 0.06\n",
    "\n",
    "P_up = 50 / 100\n",
    "P_down = 1 - P_up\n",
    "\n",
    "CF_up = 480\n",
    "CF_down = 200\n",
    "\n",
    "bkupt = 30\n",
    "\n",
    "tax_rate = 40 / 100\n",
    "tax_hurdle = 300\n",
    "\n",
    "# parameter end\n",
    "\n",
    "\n",
    "def tax(CF, tax_r, hurdle):\n",
    "    return max(CF - hurdle, 0) * tax_r\n",
    "\n",
    "def mySolver(x):\n",
    "    _debt, _ytm = x.tolist()\n",
    "    \n",
    "    lhs1 = P_up * d_desc(_debt, _ytm, -1) + P_down * (CF_down - bkupt)\n",
    "    rhs1 = d_desc(_debt, rf, -1) \n",
    "    lhs2 = d_desc(_debt, _ytm, -1) + tax((CF_up - _debt * _ytm), tax_rate, tax_hurdle)\n",
    "    rhs2 = CF_up\n",
    "    return [lhs1 - rhs1,\n",
    "            lhs2 - rhs2]\n",
    "\n",
    "result = optimize.fsolve(mySolver, [1, 0.1])\n",
    "[debt, ytm] = result\n",
    "tax_up = tax(CF_up - debt * ytm, tax_rate, tax_hurdle)\n",
    "_E_CF_1 = P_up * (CF_up - tax_up) + P_down * (CF_down - bkupt)\n",
    "PV = d_desc(_E_CF_1, rf, 1)\n",
    "\n",
    "print(\"Debt:\", round(debt, 4))\n",
    "print(\"YTM:\", round(ytm, 6))\n",
    "print(\"Present Value:\", round(PV, 4))"
   ]
  },
  {
   "cell_type": "code",
   "execution_count": 11,
   "id": "cc989c0d",
   "metadata": {},
   "outputs": [
    {
     "name": "stdout",
     "output_type": "stream",
     "text": [
      "YTM: 0.45592\n",
      "PV of firm: 299.6286\n"
     ]
    }
   ],
   "source": [
    "# unhedged with distinct debt, 2-depth decision tree\n",
    "rf = 5 / 100\n",
    "\n",
    "P_up = 50 / 100\n",
    "P_down = 1 - P_up\n",
    "\n",
    "CF_up = 500\n",
    "CF_down = 200\n",
    "\n",
    "debt = 250\n",
    "bkupt = 20\n",
    "\n",
    "tax_rate = 40 / 100\n",
    "tax_hurdle = 300\n",
    "\n",
    "P_gamble_up = 0.005\n",
    "P_gamble_down = 1 - P_gamble_up\n",
    "gamble_up = 1000\n",
    "gamble_down = -20\n",
    "\n",
    "# parameter end\n",
    "\n",
    "\n",
    "def tax(CF, tax_r, hurdle):\n",
    "    return max(CF - hurdle, 0) * tax_r\n",
    "\n",
    "def mySolver(_sol_ytm):\n",
    "    lhs = P_up * d_desc(debt, _sol_ytm, -1) + P_down * (P_gamble_down*(CF_down-bkupt+gamble_down) + P_gamble_up*d_desc(debt, _sol_ytm, -1))\n",
    "    rhs = d_desc(debt, rf, -1) \n",
    "    return lhs - rhs\n",
    "\n",
    "result = optimize.fsolve(mySolver, 1)\n",
    "ytm = result[0]\n",
    "\n",
    "_vf = P_up*(CF_up-tax(CF_up-debt*ytm,tax_rate,tax_hurdle)) + \\\n",
    "      P_down*(P_gamble_down*(CF_down-bkupt+gamble_down) + P_gamble_up*(gamble_up+CF_down-tax(gamble_up+CF_down-debt*ytm,tax_rate,tax_hurdle)))\n",
    "value_firm = d_desc(_vf, rf, 1)\n",
    "\n",
    "print(\"YTM:\", round(ytm, 6))\n",
    "print(\"PV of firm:\", round(value_firm, 4))"
   ]
  },
  {
   "cell_type": "code",
   "execution_count": null,
   "id": "36b457b8",
   "metadata": {},
   "outputs": [],
   "source": []
  },
  {
   "cell_type": "code",
   "execution_count": null,
   "id": "7787729a",
   "metadata": {},
   "outputs": [],
   "source": []
  }
 ],
 "metadata": {
  "kernelspec": {
   "display_name": "Python 3",
   "language": "python",
   "name": "python3"
  },
  "language_info": {
   "codemirror_mode": {
    "name": "ipython",
    "version": 3
   },
   "file_extension": ".py",
   "mimetype": "text/x-python",
   "name": "python",
   "nbconvert_exporter": "python",
   "pygments_lexer": "ipython3",
   "version": "3.8.8"
  }
 },
 "nbformat": 4,
 "nbformat_minor": 5
}
