{
 "cells": [
  {
   "cell_type": "code",
   "execution_count": 1,
   "metadata": {},
   "outputs": [],
   "source": [
    "import pandas as pd\n",
    "import statsmodels.api as sm\n",
    "import numpy as np\n",
    "import scipy\n",
    "from pandasql import sqldf\n",
    "import seaborn as sns\n",
    "import matplotlib.pyplot as plt"
   ]
  },
  {
   "cell_type": "code",
   "execution_count": 2,
   "metadata": {},
   "outputs": [],
   "source": [
    "def calcRSRS(df_price, N):\n",
    "    '''\n",
    "    INPUT：\n",
    "    df_price: pandas DataFrame，the daily freq stock price dataframe\n",
    "        df_price[\"high\"]: the high price of the stock in that day\n",
    "        df_price[\"low\"]: the low price of the stock in that day\n",
    "    N: int，the N parameter in model.\n",
    "    M: int，the M parameter in model.\n",
    "\n",
    "    OUTPUT：\n",
    "    RSRS: list[float]，RSRS data\n",
    "    '''\n",
    "\n",
    "    _h = (df_price[\"high\"] - df_price[\"high\"].mean()) / df_price[\"high\"].std()\n",
    "    _l = (df_price[\"low\"] - df_price[\"low\"].mean()) / df_price[\"low\"].std()\n",
    "\n",
    "    _N = N\n",
    "\n",
    "    RSRS = []\n",
    "\n",
    "    for i in range(len(_h))[_N:]:\n",
    "        data_high = _h.iloc[i - _N + 1: i + 1]\n",
    "        data_low = _l.iloc[i - _N + 1: i + 1]\n",
    "        \n",
    "        _X_ols = sm.add_constant(data_low)\n",
    "        model = sm.OLS(data_high, _X_ols)\n",
    "        results = model.fit()\n",
    "        RSRS.append(results.params.low)\n",
    "\n",
    "    return RSRS"
   ]
  },
  {
   "cell_type": "code",
   "execution_count": 3,
   "metadata": {},
   "outputs": [],
   "source": [
    "# RSRS Index Sigma Approach\n",
    "def calc_beta_r2(highs, lows):\n",
    "    \n",
    "    xx = sm.add_constant(lows)  # add a constant for X\n",
    "    model = sm.OLS(highs, xx).fit()  \n",
    "    beta = model.params[1]  # model.params.low\n",
    "    r2 = model.rsquared\n",
    "    \n",
    "    return beta, r2\n",
    "\n",
    "def calcRSRS_sigma(df_price, N, M):\n",
    "    '''\n",
    "    INPUT：\n",
    "    df_price: pandas DataFrame，the daily freq stock price dataframe\n",
    "        df_price[\"high\"]: the high price of the stock in that day\n",
    "        df_price[\"low\"]: the low price of the stock in that day\n",
    "    N: int，the N parameter in model.\n",
    "    M: int，the M parameter in model.\n",
    "\n",
    "    OUTPUT：\n",
    "    RSRS: list[float]，RSRS data\n",
    "    '''\n",
    "    # Intermediate Variables\n",
    "    RSRS = []\n",
    "    beta_weight = []\n",
    "    r2_weight = []\n",
    "    \n",
    "    # Store data\n",
    "    _h = df_price.high.values\n",
    "    _l = df_price.low.values\n",
    "    \n",
    "    # Compute and store the list of beta and r2\n",
    "    for i in range(0, len(_h) - N + 1):\n",
    "        highs = _h[i : i + N]\n",
    "        lows = _l[i : i + N]\n",
    "        \n",
    "        beta, r2 = calc_beta_r2(highs, lows)\n",
    "        \n",
    "        beta_weight.append(beta)\n",
    "        r2_weight.append(r2)\n",
    "        \n",
    "    # Compute the RSRS index    \n",
    "    for i in range(0, len(_h)- N + 1):\n",
    "        highs = _h[i : i + N]\n",
    "        lows = _l[i : i + N]\n",
    "        \n",
    "        beta, r2 = calc_beta_r2(highs, lows)\n",
    "        \n",
    "        beta_weight.append(beta)\n",
    "        r2_weight.append(r2)        \n",
    "        \n",
    "    # Take the time series of beta in the previous M days and calculate the z_score standard score      \n",
    "        section = beta_weight[-M:]\n",
    "        mu = np.mean(section)\n",
    "        sigma = np.std(section)\n",
    "        z_score = (section[-1] - mu) / sigma\n",
    "        \n",
    "        \n",
    "        rsrs = z_score * r2\n",
    "        \n",
    "        RSRS.append(rsrs)\n",
    "        \n",
    "        \n",
    "    return RSRS"
   ]
  },
  {
   "cell_type": "code",
   "execution_count": 4,
   "metadata": {},
   "outputs": [],
   "source": [
    "# Maximize Drawback Rate\n",
    "def maxDrawbackRate(prices) -> float:\n",
    "    '''\n",
    "    INPUT：\n",
    "    prices: np.array object. I'm not sure list and tuple will work or not.\n",
    "\n",
    "    OUTPUT：\n",
    "    rt: float，the max drawback rate for given data.\n",
    "    '''\n",
    "    prices = [-p for p in prices]\n",
    "    inf = int(2 << 10)\n",
    "    minprice = inf\n",
    "    maxprofit = 0\n",
    "    for price in prices:\n",
    "        maxprofit = max(price - minprice, maxprofit)\n",
    "        minprice = min(price, minprice)\n",
    "    return maxprofit / minprice"
   ]
  },
  {
   "cell_type": "code",
   "execution_count": 5,
   "metadata": {},
   "outputs": [],
   "source": [
    "# tushare is a Chinese stock market data API. \n",
    "# It is free to download shares' daily data in Chinese Market.\n",
    "# I hope this API works well. \n",
    "# If anything wrong with this package and you cannot get the data,\n",
    "# please contact us.\n",
    "\n",
    "import tushare as ts\n",
    "pro = ts.pro_api('6278bfee192fcc3496a2789689930a63f3dd2027811b101933ee2064')"
   ]
  },
  {
   "cell_type": "code",
   "execution_count": 6,
   "metadata": {},
   "outputs": [],
   "source": [
    "# # df_ori = pro.daily(ts_code='000100.SZ', start_date='20100101', end_date='20201231')\n",
    "# df_ori = pro.daily(ts_code='000001.SZ', start_date='20000101', end_date='20201231')\n",
    "\n",
    "# df_ori.to_csv(\"000100.csv\")"
   ]
  },
  {
   "cell_type": "code",
   "execution_count": 7,
   "metadata": {},
   "outputs": [],
   "source": [
    "# RSRS Statistics Display\n",
    "df_ori = pro.daily(ts_code='000001.SZ', start_date='20000101', end_date='20201231')\n",
    "# df_ori = pro.daily(ts_code='000100.SZ', start_date='20100101', end_date='20201231')\n",
    "\n",
    "df_ori = sqldf(\n",
    "    \"\"\"\n",
    "    SELECT\n",
    "        *\n",
    "    FROM\n",
    "        df_ori\n",
    "    ORDER BY\n",
    "        trade_date ASC\n",
    "    \"\"\"\n",
    ")\n",
    "\n",
    "# df_ori[\"mean_price\"] = (df_ori[\"high\"] + df_ori[\"low\"] + df_ori[\"open\"] + df_ori[\"close\"]) / 4\n",
    "\n",
    "\n",
    "rsrs = calcRSRS(df_ori, N=18)\n",
    "rsrs = np.array(rsrs)"
   ]
  },
  {
   "cell_type": "code",
   "execution_count": 8,
   "metadata": {},
   "outputs": [
    {
     "name": "stdout",
     "output_type": "stream",
     "text": [
      "Mean: 0.926401514814105\n",
      "Std: 0.16102539334387272\n",
      "Skew: 0.3324572378614215\n",
      "Kurt: 3.8173792492545875\n"
     ]
    }
   ],
   "source": [
    "print(\"Mean:\", rsrs.mean())\n",
    "print(\"Std:\", rsrs.std())\n",
    "print(\"Skew:\", scipy.stats.skew(rsrs))\n",
    "print(\"Kurt:\", scipy.stats.kurtosis(rsrs))"
   ]
  },
  {
   "cell_type": "code",
   "execution_count": 9,
   "metadata": {},
   "outputs": [
    {
     "data": {
      "text/plain": [
       "<AxesSubplot:ylabel='Count'>"
      ]
     },
     "execution_count": 9,
     "metadata": {},
     "output_type": "execute_result"
    },
    {
     "data": {
      "image/png": "[encoded data removed]",
      "text/plain": [
       "<Figure size 432x288 with 1 Axes>"
      ]
     },
     "metadata": {
      "needs_background": "light"
     },
     "output_type": "display_data"
    }
   ],
   "source": [
    "sns.histplot(rsrs)"
   ]
  },
  {
   "cell_type": "code",
   "execution_count": 10,
   "metadata": {},
   "outputs": [
    {
     "data": {
      "text/plain": [
       "<AxesSubplot:xlabel='trade_date'>"
      ]
     },
     "execution_count": 10,
     "metadata": {},
     "output_type": "execute_result"
    },
    {
     "data": {
      "image/png": "[encoded data removed]",
      "text/plain": [
       "<Figure size 432x288 with 1 Axes>"
      ]
     },
     "metadata": {
      "needs_background": "light"
     },
     "output_type": "display_data"
    }
   ],
   "source": [
    "x = pd.to_datetime(df_ori.trade_date)[18:]\n",
    "sns.lineplot(x=x, y=rsrs)"
   ]
  },
  {
   "cell_type": "code",
   "execution_count": 11,
   "metadata": {},
   "outputs": [
    {
     "data": {
      "text/plain": [
       "<AxesSubplot:xlabel='trade_date', ylabel='open'>"
      ]
     },
     "execution_count": 11,
     "metadata": {},
     "output_type": "execute_result"
    },
    {
     "data": {
      "image/png": "[encoded data removed]",
      "text/plain": [
       "<Figure size 432x288 with 1 Axes>"
      ]
     },
     "metadata": {
      "needs_background": "light"
     },
     "output_type": "display_data"
    }
   ],
   "source": [
    "x = pd.to_datetime(df_ori.trade_date)[18:]\n",
    "# sns.lineplot(x=x, y=df_ori[\"mean_price\"][18:])\n",
    "sns.lineplot(x=x, y=df_ori[\"open\"][18:])"
   ]
  },
  {
   "cell_type": "code",
   "execution_count": 12,
   "metadata": {},
   "outputs": [
    {
     "data": {
      "text/plain": [
       "array([[1.        , 0.08614031],\n",
       "       [0.08614031, 1.        ]])"
      ]
     },
     "execution_count": 12,
     "metadata": {},
     "output_type": "execute_result"
    }
   ],
   "source": [
    "np.corrcoef(rsrs, df_ori[\"change\"][18:])"
   ]
  },
  {
   "cell_type": "code",
   "execution_count": null,
   "metadata": {},
   "outputs": [],
   "source": []
  },
  {
   "cell_type": "code",
   "execution_count": 13,
   "metadata": {},
   "outputs": [],
   "source": [
    "# RSRS Selection: using 000001.sh as example\n",
    "# We set the threshold for longing and shorting.\n",
    "# Long: When RSRS > 1\n",
    "# Short: When RSRS < 0.8\n",
    "\n",
    "thre_long = 1\n",
    "thre_short = 0.8"
   ]
  },
  {
   "cell_type": "code",
   "execution_count": 14,
   "metadata": {},
   "outputs": [],
   "source": [
    "_is_hold = False\n",
    "virtual_initial_cash = 1000000\n",
    "virtual_cash = virtual_initial_cash\n",
    "virtual_position = 0\n",
    "virtual_value = virtual_initial_cash + 0\n",
    "# Explanation: value = cash + stock = cash + position * price\n",
    "\n",
    "# base_position = virtual_initial_cash / df_ori[\"mean_price\"][18]\n",
    "base_position = virtual_initial_cash / df_ori[\"open\"][18]\n",
    "\n",
    "# base: simply buy and hold the stock.\n",
    "\n",
    "ct_long = 0\n",
    "ct_short = 0\n",
    "\n",
    "\n",
    "_value_list = []\n",
    "_base_value = []\n",
    "\n",
    "for i in range(len(rsrs)):\n",
    "#     _p = df_ori[\"mean_price\"][18 + i]\n",
    "    _p = df_ori[\"open\"][18 + i]\n",
    "    \n",
    "    if rsrs[i] >= thre_long and _is_hold == False:\n",
    "        _is_hold = True\n",
    "        ct_long += 1\n",
    "        \n",
    "        virtual_position = 100 * int(virtual_cash / (_p * 100))\n",
    "        virtual_cash -= (virtual_position * _p) \n",
    "        \n",
    "        \n",
    "    if rsrs[i] <= thre_short and _is_hold:\n",
    "        _is_hold = False\n",
    "        ct_short += 1\n",
    "        \n",
    "        virtual_cash += (virtual_position * _p)\n",
    "        virtual_position = 0\n",
    "        \n",
    "        \n",
    "    _today_value = virtual_cash + virtual_position * _p\n",
    "    _value_list.append(_today_value)\n",
    "    _base_value.append(base_position * _p)"
   ]
  },
  {
   "cell_type": "code",
   "execution_count": 15,
   "metadata": {},
   "outputs": [
    {
     "data": {
      "text/plain": [
       "<matplotlib.legend.Legend at 0x7f9014a8d2b0>"
      ]
     },
     "execution_count": 15,
     "metadata": {},
     "output_type": "execute_result"
    },
    {
     "data": {
      "image/png": "[encoded data removed]",
      "text/plain": [
       "<Figure size 432x288 with 1 Axes>"
      ]
     },
     "metadata": {
      "needs_background": "light"
     },
     "output_type": "display_data"
    }
   ],
   "source": [
    "x = pd.to_datetime(df_ori.trade_date)[18:]\n",
    "plt.plot(x, _value_list, label=\"RSRS Strategy\")\n",
    "plt.plot(x, _base_value, label=\"Stock Buy-and-Hold\")\n",
    "plt.legend(loc='upper left')"
   ]
  },
  {
   "cell_type": "code",
   "execution_count": 16,
   "metadata": {},
   "outputs": [
    {
     "name": "stdout",
     "output_type": "stream",
     "text": [
      "Recent value of portfolio: 23733107.0\n",
      "Long time: 92\n",
      "Short time: 91\n"
     ]
    }
   ],
   "source": [
    "cur_value = _value_list[-1]\n",
    "\n",
    "print(\"Recent value of portfolio:\", cur_value)\n",
    "print(\"Long time:\", ct_long)\n",
    "print(\"Short time:\", ct_short)"
   ]
  },
  {
   "cell_type": "code",
   "execution_count": 17,
   "metadata": {},
   "outputs": [
    {
     "data": {
      "text/plain": [
       "0.1627680128880158"
      ]
     },
     "execution_count": 17,
     "metadata": {},
     "output_type": "execute_result"
    }
   ],
   "source": [
    "# annual return\n",
    "_gain = (cur_value - virtual_value) / virtual_value\n",
    "# annual_return = pow((1 + _gain), (1 / 11)) - 1\n",
    "annual_return = pow((1 + _gain), (1 / 21)) - 1\n",
    "annual_return"
   ]
  },
  {
   "cell_type": "code",
   "execution_count": 18,
   "metadata": {},
   "outputs": [
    {
     "data": {
      "text/plain": [
       "6.069533435238127"
      ]
     },
     "execution_count": 18,
     "metadata": {},
     "output_type": "execute_result"
    }
   ],
   "source": [
    "_base_gain = (_base_value[-1] - virtual_initial_cash) / virtual_initial_cash\n",
    "annual_return_base = pow((1 + _base_gain), (1 / 21)) - 1\n",
    "# annual_return_base = pow((1 + _base_gain), (1 / 11)) - 1\n",
    "\n",
    "\n",
    "# tracking error\n",
    "track_err = np.array([(_value_list[i] - _base_value[i]) / virtual_initial_cash\n",
    "                      for i in range(len(_value_list))]).std()\n",
    "track_err"
   ]
  },
  {
   "cell_type": "code",
   "execution_count": 19,
   "metadata": {},
   "outputs": [
    {
     "data": {
      "text/plain": [
       "0.026306000717853176"
      ]
     },
     "execution_count": 19,
     "metadata": {},
     "output_type": "execute_result"
    }
   ],
   "source": [
    "# information ratio\n",
    "info_ratio = (annual_return - annual_return_base) / track_err\n",
    "info_ratio"
   ]
  },
  {
   "cell_type": "code",
   "execution_count": 20,
   "metadata": {},
   "outputs": [
    {
     "data": {
      "text/plain": [
       "-0.1606671767896756"
      ]
     },
     "execution_count": 20,
     "metadata": {},
     "output_type": "execute_result"
    }
   ],
   "source": [
    "maxDrawbackRate(_value_list)"
   ]
  },
  {
   "cell_type": "code",
   "execution_count": null,
   "metadata": {},
   "outputs": [],
   "source": []
  },
  {
   "cell_type": "code",
   "execution_count": 21,
   "metadata": {},
   "outputs": [],
   "source": [
    "# RSRS Selection: using 000001.sh as example\n",
    "# We set the threshold for longing and shorting.\n",
    "# Long: When RSRS > mean + std\n",
    "# Short: When RSRS < mean - std\n",
    "\n",
    "rsrs = []\n",
    "rsrs = calcRSRS_sigma(df_ori, N=18, M=600)\n",
    "rsrs = np.array(rsrs)\n",
    "\n",
    "thre_long = rsrs.mean() + 1 * rsrs.std()\n",
    "thre_short = rsrs.mean() - 1 * rsrs.std()\n",
    "\n",
    "_is_hold = False\n",
    "virtual_initial_cash = 1000000\n",
    "virtual_cash = virtual_initial_cash\n",
    "virtual_position = 0\n",
    "virtual_value = virtual_initial_cash + 0\n",
    "\n",
    "# base_position = virtual_initial_cash / df_ori[\"mean_price\"][18]\n",
    "base_position = virtual_initial_cash / df_ori[\"open\"][18]\n",
    "\n",
    "ct_long = 0\n",
    "ct_short = 0\n",
    "\n",
    "\n",
    "_value_list_v = []\n",
    "_base_value = []\n",
    "\n",
    "for i in range(len(rsrs)):\n",
    "#     _p = df_ori[\"mean_price\"][17 + i]\n",
    "    _p = df_ori[\"open\"][17 + i]\n",
    "    \n",
    "    if rsrs[i] >= thre_long and _is_hold == False:\n",
    "        _is_hold = True\n",
    "        ct_long += 1\n",
    "        \n",
    "        virtual_position = 100 * int(virtual_cash / (_p * 100))\n",
    "        virtual_cash -= (virtual_position * _p) \n",
    "        \n",
    "        \n",
    "    if rsrs[i] <= thre_short and _is_hold:\n",
    "        _is_hold = False\n",
    "        ct_short += 1\n",
    "        \n",
    "        virtual_cash += (virtual_position * _p)\n",
    "        virtual_position = 0\n",
    "        \n",
    "        \n",
    "    _today_value = virtual_cash + virtual_position * _p\n",
    "    _value_list_v.append(_today_value)\n",
    "    _base_value.append(base_position * _p)"
   ]
  },
  {
   "cell_type": "code",
   "execution_count": 22,
   "metadata": {},
   "outputs": [
    {
     "data": {
      "text/plain": [
       "<matplotlib.legend.Legend at 0x7f901a67e070>"
      ]
     },
     "execution_count": 22,
     "metadata": {},
     "output_type": "execute_result"
    },
    {
     "data": {
      "image/png": "[encoded data removed]",
      "text/plain": [
       "<Figure size 432x288 with 1 Axes>"
      ]
     },
     "metadata": {
      "needs_background": "light"
     },
     "output_type": "display_data"
    }
   ],
   "source": [
    "x = [i for i in range(len(_value_list))]\n",
    "plt.plot(x, _value_list, color=\"red\", label=\"RSRS Fixed\")\n",
    "plt.plot(x, _value_list_v[1:], color=\"orange\", label=\"RSRS Sigma\")\n",
    "plt.plot(x, _base_value[1:], color=\"blue\", label=\"Stock Buy-and-Hold\")\n",
    "plt.legend(loc='upper left')"
   ]
  },
  {
   "cell_type": "code",
   "execution_count": 23,
   "metadata": {},
   "outputs": [
    {
     "name": "stdout",
     "output_type": "stream",
     "text": [
      "Recent value of portfolio: 23065175.0\n",
      "Long time: 55\n",
      "Short time: 55\n"
     ]
    }
   ],
   "source": [
    "_value_list = _value_list_v\n",
    "cur_value = _value_list[-1]\n",
    "\n",
    "print(\"Recent value of portfolio:\", cur_value)\n",
    "print(\"Long time:\", ct_long)\n",
    "print(\"Short time:\", ct_short)"
   ]
  },
  {
   "cell_type": "code",
   "execution_count": 24,
   "metadata": {},
   "outputs": [
    {
     "data": {
      "text/plain": [
       "-0.16091223786938835"
      ]
     },
     "execution_count": 24,
     "metadata": {},
     "output_type": "execute_result"
    }
   ],
   "source": [
    "maxDrawbackRate(_value_list)"
   ]
  },
  {
   "cell_type": "code",
   "execution_count": 25,
   "metadata": {},
   "outputs": [
    {
     "data": {
      "text/plain": [
       "0.16118843714311537"
      ]
     },
     "execution_count": 25,
     "metadata": {},
     "output_type": "execute_result"
    }
   ],
   "source": [
    "# annual return\n",
    "_gain = (cur_value - virtual_value) / virtual_value\n",
    "# annual_return = pow((1 + _gain), (1 / 11)) - 1\n",
    "annual_return = pow((1 + _gain), (1 / 21)) - 1\n",
    "\n",
    "annual_return"
   ]
  },
  {
   "cell_type": "code",
   "execution_count": 26,
   "metadata": {},
   "outputs": [
    {
     "data": {
      "text/plain": [
       "5.310932744878423"
      ]
     },
     "execution_count": 26,
     "metadata": {},
     "output_type": "execute_result"
    }
   ],
   "source": [
    "_base_gain = (_base_value[-1] - virtual_initial_cash) / virtual_initial_cash\n",
    "# annual_return_base = pow((1 + _base_gain), (1 / 11)) - 1\n",
    "annual_return_base = pow((1 + _base_gain), (1 / 21)) - 1\n",
    "\n",
    "# tracking error\n",
    "track_err = np.array([(_value_list[i] - _base_value[i]) / virtual_initial_cash\n",
    "                      for i in range(len(_value_list))]).std()\n",
    "track_err"
   ]
  },
  {
   "cell_type": "code",
   "execution_count": 28,
   "metadata": {},
   "outputs": [
    {
     "data": {
      "text/plain": [
       "0.02976606610429341"
      ]
     },
     "execution_count": 28,
     "metadata": {},
     "output_type": "execute_result"
    }
   ],
   "source": [
    "# information ratio\n",
    "info_ratio = (annual_return - annual_return_base) / track_err\n",
    "info_ratio"
   ]
  },
  {
   "cell_type": "code",
   "execution_count": null,
   "metadata": {},
   "outputs": [],
   "source": []
  },
  {
   "cell_type": "code",
   "execution_count": null,
   "metadata": {},
   "outputs": [],
   "source": [
    "# # RSRS Selection: Dynamic Threshold\n",
    "# # We calculate the threshold everyday with the recent N = 18 days.\n",
    "\n",
    "# # thre_long = rsrs.mean() + 1 * rsrs.std()\n",
    "# # thre_short = rsrs.mean() - 1 * rsrs.std()\n",
    "\n",
    "\n",
    "# thre_long = rsrs.mean() + 1 * rsrs.std()\n",
    "# thre_short = rsrs.mean() - 1 * rsrs.std()\n",
    "\n",
    "# _is_hold = False\n",
    "# virtual_initial_cash = 10000\n",
    "# virtual_cash = virtual_initial_cash\n",
    "# virtual_position = 0\n",
    "# virtual_value = virtual_initial_cash\n",
    "\n",
    "# base_position = virtual_initial_cash / df_ori[\"mean_price\"][18]\n",
    "\n",
    "# ct_long = 0\n",
    "# ct_short = 0\n",
    "\n",
    "\n",
    "# _value_list = []\n",
    "# _base_value = []\n",
    "\n",
    "# for i in range(len(rsrs)):\n",
    "#     _rs = rsrs[i: i + 18]\n",
    "#     thre_long = _rs.mean() + 1 * _rs.std()\n",
    "#     thre_short = _rs.mean() - 1 * _rs.std()\n",
    "    \n",
    "#     _p = df_ori[\"mean_price\"][18 + i]\n",
    "    \n",
    "#     if rsrs[i] >= thre_long and _is_hold == False:\n",
    "#         _is_hold = True\n",
    "#         ct_long += 1\n",
    "        \n",
    "#         virtual_position = virtual_cash / _p\n",
    "#         virtual_cash = 0\n",
    "        \n",
    "        \n",
    "#     if rsrs[i] <= thre_short and _is_hold:\n",
    "#         _is_hold = False\n",
    "#         ct_short += 1\n",
    "        \n",
    "#         virtual_cash = virtual_position * _p \n",
    "#         virtual_position = 0\n",
    "        \n",
    "#     _today_value = virtual_cash + virtual_position * _p\n",
    "    \n",
    "    \n",
    "#     _value_list.append(_today_value)\n",
    "#     _base_value.append(base_position * _p)"
   ]
  },
  {
   "cell_type": "code",
   "execution_count": null,
   "metadata": {},
   "outputs": [],
   "source": [
    "# x = [i for i in range(len(_value_list))]\n",
    "# plt.plot(x, _value_list, label=\"RSRS Dynamic Strategy\")\n",
    "# plt.plot(x, _base_value, label=\"Stock Buy-and-Hold\")\n",
    "# plt.legend(loc='upper left')"
   ]
  },
  {
   "cell_type": "code",
   "execution_count": null,
   "metadata": {},
   "outputs": [],
   "source": []
  },
  {
   "cell_type": "code",
   "execution_count": null,
   "metadata": {},
   "outputs": [],
   "source": []
  }
 ],
 "metadata": {
  "kernelspec": {
   "display_name": "Python 3",
   "language": "python",
   "name": "python3"
  },
  "language_info": {
   "codemirror_mode": {
    "name": "ipython",
    "version": 3
   },
   "file_extension": ".py",
   "mimetype": "text/x-python",
   "name": "python",
   "nbconvert_exporter": "python",
   "pygments_lexer": "ipython3",
   "version": "3.8.6"
  }
 },
 "nbformat": 4,
 "nbformat_minor": 4
}
