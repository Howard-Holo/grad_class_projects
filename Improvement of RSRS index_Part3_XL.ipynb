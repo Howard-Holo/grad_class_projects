{
 "cells": [
  {
   "cell_type": "code",
   "execution_count": 1,
   "metadata": {},
   "outputs": [],
   "source": [
    "import pandas as pd\n",
    "import statsmodels.api as sm\n",
    "import numpy as np\n",
    "import scipy\n",
    "from pandasql import sqldf\n",
    "import seaborn as sns\n",
    "import matplotlib.pyplot as plt\n",
    "import tushare as ts\n",
    "import scipy.stats as stats"
   ]
  },
  {
   "cell_type": "code",
   "execution_count": 2,
   "metadata": {},
   "outputs": [],
   "source": [
    "# tushare is a Chinese stock market data API. \n",
    "# It is free to download shares' daily data in Chinese Market.\n",
    "# I hope this API works well. \n",
    "# If anything wrong with this package and you cannot get the data,\n",
    "# please contact us.\n",
    "\n",
    "import tushare as ts\n",
    "pro = ts.pro_api('6278bfee192fcc3496a2789689930a63f3dd2027811b101933ee2064')"
   ]
  },
  {
   "cell_type": "code",
   "execution_count": 3,
   "metadata": {},
   "outputs": [],
   "source": [
    "def calc_beta_r2(highs, lows):\n",
    "    \n",
    "    xx = sm.add_constant(lows)  # add a constant for X\n",
    "    model = sm.OLS(highs, xx).fit()  \n",
    "    beta = model.params[1]  # model.params.low\n",
    "    r2 = model.rsquared\n",
    "    \n",
    "    return beta, r2"
   ]
  },
  {
   "cell_type": "code",
   "execution_count": 4,
   "metadata": {},
   "outputs": [],
   "source": [
    "def calc_beta_r2_w(highs, lows, volumes):\n",
    "\n",
    "    # The weights of volumes\n",
    "    weights = volumes / volumes.sum()\n",
    "\n",
    "    xx = sm.add_constant(lows)  # add a constant for X\n",
    "    model = sm.WLS(highs, xx, weights).fit()  # sm.WLS(y, X, weights)\n",
    "    beta = model.params[1]  # model.params.low\n",
    "    r2 = model.rsquared\n",
    "    return beta, r2"
   ]
  },
  {
   "cell_type": "code",
   "execution_count": 5,
   "metadata": {},
   "outputs": [],
   "source": [
    "# Simplest RSRS Index, without M.\n",
    "def calcRSRS_simple(df_price, N):\n",
    "    '''\n",
    "    INPUT：\n",
    "    df_price: pandas DataFrame，the daily freq stock price dataframe\n",
    "        df_price[\"high\"]: the high price of the stock in that day\n",
    "        df_price[\"low\"]: the low price of the stock in that day\n",
    "    N: int，the N parameter in model.\n",
    "    M: int，the M parameter in model.\n",
    "\n",
    "    OUTPUT：\n",
    "    RSRS: list[float]，RSRS data\n",
    "    '''\n",
    "\n",
    "    _h = (df_price[\"high\"] - df_price[\"high\"].mean()) / df_price[\"high\"].std()\n",
    "    _l = (df_price[\"low\"] - df_price[\"low\"].mean()) / df_price[\"low\"].std()\n",
    "\n",
    "    _N = N\n",
    "\n",
    "    RSRS = []\n",
    "\n",
    "    for i in range(len(_h))[_N:]:\n",
    "        data_high = _h.iloc[i - _N + 1: i + 1]\n",
    "        data_low = _l.iloc[i - _N + 1: i + 1]\n",
    "        \n",
    "        _X_ols = sm.add_constant(data_low)\n",
    "        model = sm.OLS(data_high, _X_ols)\n",
    "        results = model.fit()\n",
    "        RSRS.append(results.params.low)\n",
    "\n",
    "    return RSRS"
   ]
  },
  {
   "cell_type": "code",
   "execution_count": 6,
   "metadata": {},
   "outputs": [],
   "source": [
    "# Initial RSRS Index\n",
    "def calcRSRS(df_price, N, M):\n",
    "    '''\n",
    "    INPUT：\n",
    "    df_price: pandas DataFrame，the daily freq stock price dataframe\n",
    "        df_price[\"high\"]: the high price of the stock in that day\n",
    "        df_price[\"low\"]: the low price of the stock in that day\n",
    "    N: int，the N parameter in model.\n",
    "    M: int，the M parameter in model.\n",
    "\n",
    "    OUTPUT：\n",
    "    RSRS: list[float]，RSRS data\n",
    "    '''\n",
    "    # Intermediate Variables\n",
    "    RSRS = []\n",
    "    beta_weight = []\n",
    "    r2_weight = []\n",
    "    \n",
    "    # Store data\n",
    "    _h = df_price.high.values\n",
    "    _l = df_price.low.values\n",
    "    \n",
    "    # Compute and store the list of beta and r2\n",
    "    for i in range(0, len(_h) - N + 1):\n",
    "        highs = _h[i : i + N]\n",
    "        lows = _l[i : i + N]\n",
    "        \n",
    "        beta, r2 = calc_beta_r2(highs, lows)\n",
    "        \n",
    "        beta_weight.append(beta)\n",
    "        r2_weight.append(r2)\n",
    "        \n",
    "    # Compute the RSRS index    \n",
    "    for i in range(0, len(_h)- N + 1):\n",
    "        highs = _h[i : i + N]\n",
    "        lows = _l[i : i + N]\n",
    "        \n",
    "        beta, r2 = calc_beta_r2(highs, lows)\n",
    "        \n",
    "        beta_weight.append(beta)\n",
    "        r2_weight.append(r2)        \n",
    "        \n",
    "    # Take the time series of beta in the previous M days and calculate the z_score standard score      \n",
    "        section = beta_weight[-M:]\n",
    "        mu = np.mean(section)\n",
    "        sigma = np.std(section)\n",
    "        z_score = (section[-1] - mu) / sigma\n",
    "        \n",
    "        \n",
    "        rsrs = z_score * r2\n",
    "        \n",
    "        RSRS.append(rsrs)\n",
    "        \n",
    "        \n",
    "    return RSRS"
   ]
  },
  {
   "cell_type": "code",
   "execution_count": 7,
   "metadata": {},
   "outputs": [],
   "source": [
    "# Improvment method 1 \n",
    "# Change the RSRS index according to the weights of volume\n",
    "\n",
    "def calcRSRS_w(df_price, N, M):\n",
    "    '''\n",
    "    INPUT：\n",
    "    df_price: pandas DataFrame，the daily freq stock price dataframe\n",
    "        df_price[\"high\"]: the high price of the stock in that day\n",
    "        df_price[\"low\"]: the low price of the stock in that day\n",
    "    N: int，the N parameter in model.\n",
    "    M: int，the M parameter in model.\n",
    "\n",
    "    OUTPUT：\n",
    "    RSRS: list[float]，RSRS data\n",
    "    '''\n",
    "    # Intermediate Variables\n",
    "    RSRS_w = []\n",
    "    beta_weight = []\n",
    "    r2_weight = []\n",
    "    \n",
    "    # Store data\n",
    "    _h = df_price.high.values\n",
    "    _l = df_price.low.values\n",
    "    _v = df_price.vol.values\n",
    "    \n",
    "    \n",
    "    # Compute and store the list of beta and r2\n",
    "    for i in range(0, len(_h) - N + 1):\n",
    "        highs = _h[i : i + N]\n",
    "        lows = _l[i : i + N]\n",
    "        volumes = _v[i : i + N]\n",
    "        \n",
    "        beta, r2 = calc_beta_r2_w(highs, lows, volumes)\n",
    "        \n",
    "        beta_weight.append(beta)\n",
    "        r2_weight.append(r2)\n",
    "        \n",
    "    # Compute the reviesed RSRS index (Change the index according to to weights of volume)\n",
    "    for i in range(0, len(_h)- N + 1):\n",
    "        highs = _h[i : i + N]\n",
    "        lows = _l[i : i + N]\n",
    "        volumes = _v[i : i + N]\n",
    "        \n",
    "        beta, r2 = calc_beta_r2_w(highs, lows, volumes)\n",
    "        \n",
    "        beta_weight.append(beta)\n",
    "        r2_weight.append(r2)        \n",
    "        \n",
    "    # Take the time series of beta in the previous M days and calculate the z_score standard score        \n",
    "        section = beta_weight[-M:]\n",
    "        mu = np.mean(section)\n",
    "        sigma = np.std(section)\n",
    "        z_score = (section[-1] - mu) / sigma\n",
    "        \n",
    "        \n",
    "        rsrs_w = z_score * r2\n",
    "        \n",
    "        RSRS_w.append(rsrs_w)\n",
    "        \n",
    "        \n",
    "    return RSRS_w"
   ]
  },
  {
   "cell_type": "code",
   "execution_count": 8,
   "metadata": {},
   "outputs": [],
   "source": [
    "# Improvment method 2\n",
    "# Passivate the RSRS index \n",
    "\n",
    "def calcRSRS_passi(df_price, N, M):\n",
    "    '''\n",
    "    INPUT：\n",
    "    df_price: pandas DataFrame，the daily freq stock price dataframe\n",
    "        df_price[\"high\"]: the high price of the stock in that day\n",
    "        df_price[\"low\"]: the low price of the stock in that day\n",
    "    N: int，the N parameter in model.\n",
    "    M: int，the M parameter in model.\n",
    "\n",
    "    OUTPUT：\n",
    "    RSRS: list[float]，RSRS data\n",
    "    '''\n",
    "    # Intermediate Variables\n",
    "    RSRS_passi = []\n",
    "    volatility = []\n",
    "    beta_weight = []\n",
    "    r2_weight = []\n",
    "    \n",
    "    # Store data\n",
    "    _h = df_price.high.values\n",
    "    _l = df_price.low.values\n",
    "    _v = df_price.vol.values\n",
    "    \n",
    "    # Compute and store the daily_return and volatility\n",
    "    daily_return = df_price.open.pct_change()[1:].values\n",
    "    for i in range(0, len(daily_return) - N + 1):\n",
    "        std = np.std(daily_return[i:i + N])\n",
    "        volatility.append(std)\n",
    "    \n",
    "    # Compute and store the list of beta and r2\n",
    "    for i in range(0, len(_h) - N + 1):\n",
    "        highs = _h[i : i + N]\n",
    "        lows = _l[i : i + N]\n",
    "        volumes = _v[i : i + N]\n",
    "        \n",
    "        beta, r2 = calc_beta_r2(highs, lows)\n",
    "        \n",
    "        beta_weight.append(beta)\n",
    "        r2_weight.append(r2)\n",
    "        \n",
    "    # Compute the passivated RSRS index    \n",
    "    for i in range(0, len(_h)- N + 1):\n",
    "        highs = _h[i : i + N]\n",
    "        lows = _l[i : i + N]\n",
    "        volumes = _v[i : i + N]\n",
    "        \n",
    "        beta, r2 = calc_beta_r2(highs, lows)\n",
    "        \n",
    "        beta_weight.append(beta)\n",
    "        r2_weight.append(r2)        \n",
    "        \n",
    "    # Take the time series of beta in the previous M days and calculate the z_score standard score          \n",
    "        section = beta_weight[-M:]\n",
    "        mu = np.mean(section)\n",
    "        sigma = np.std(section)\n",
    "        z_score = (section[-1] - mu) / sigma\n",
    "        \n",
    "        \n",
    "    # Compute the standard error of the last N days\n",
    "        daily_return = df_price.open.pct_change()[1:].values[i: i + N]\n",
    "        std = np.std(daily_return)\n",
    "        volatility.append(std)\n",
    "        \n",
    "    # Calculate the percentile of the previous standard deviation in the past M days\n",
    "        std_percent = stats.percentileofscore(volatility[-M:], std) / 100\n",
    "        \n",
    "        rsrs_passi = z_score * (r2 ** (2 * std_percent))\n",
    "        \n",
    "        RSRS_passi.append(rsrs_passi)\n",
    "        \n",
    "        \n",
    "    return RSRS_passi"
   ]
  },
  {
   "cell_type": "code",
   "execution_count": 9,
   "metadata": {},
   "outputs": [],
   "source": [
    "# Improvement method 3\n",
    "# Combing the two previous method, we construct a passivated RSRS index which is weighted by the volumes.\n",
    "def calcRSRS_w_passi(df_price, N, M):\n",
    "    '''\n",
    "    INPUT：\n",
    "    df_price: pandas DataFrame，the daily freq stock price dataframe\n",
    "        df_price[\"high\"]: the high price of the stock in that day\n",
    "        df_price[\"low\"]: the low price of the stock in that day\n",
    "    N: int，the N parameter in model.\n",
    "    M: int，the M parameter in model.\n",
    "\n",
    "    OUTPUT：\n",
    "    RSRS: list[float]，RSRS data\n",
    "    '''\n",
    "    # Intermediate Variables\n",
    "    RSRS_w_passi = []\n",
    "    volatility = []\n",
    "    beta_weight = []\n",
    "    r2_weight = []\n",
    "    \n",
    "    # Store data\n",
    "    _h = df_price.high.values\n",
    "    _l = df_price.low.values\n",
    "    _v = df_price.vol.values\n",
    "    \n",
    "    # Compute and store the daily_return and volatility\n",
    "    daily_return = df_price.open.pct_change()[1:].values\n",
    "    for i in range(0, len(daily_return) - N + 1):\n",
    "        std = np.std(daily_return[i:i + N])\n",
    "        volatility.append(std)\n",
    "    \n",
    "    # Compute and store the list of beta and r2\n",
    "    for i in range(0, len(_h) - N + 1):\n",
    "        highs = _h[i : i + N]\n",
    "        lows = _l[i : i + N]\n",
    "        volumes = _v[i : i + N]\n",
    "        \n",
    "        beta, r2 = calc_beta_r2_w(highs, lows, volumes)\n",
    "        \n",
    "        beta_weight.append(beta)\n",
    "        r2_weight.append(r2)\n",
    "        \n",
    "    # Compute the weighted and passivated RSRS index    \n",
    "    for i in range(0, len(_h)- N + 1):\n",
    "        highs = _h[i : i + N]\n",
    "        lows = _l[i : i + N]\n",
    "        volumes = _v[i : i + N]\n",
    "        \n",
    "        beta, r2 = calc_beta_r2_w(highs, lows, volumes)\n",
    "        \n",
    "        beta_weight.append(beta)\n",
    "        r2_weight.append(r2)        \n",
    "        \n",
    "    # Take the time series of beta in the previous M days and calculate the z_score standard score          \n",
    "        section = beta_weight[-M:]\n",
    "        mu = np.mean(section)\n",
    "        sigma = np.std(section)\n",
    "        z_score = (section[-1] - mu) / sigma\n",
    "        \n",
    "        \n",
    "    # Compute the standard error of the last N days\n",
    "        daily_return = df_price.open.pct_change()[1:].values[i: i + N]\n",
    "        std = np.std(daily_return)\n",
    "        volatility.append(std)\n",
    "        \n",
    "    \n",
    "        std_percent = stats.percentileofscore(volatility[-M:], std) / 100\n",
    "        \n",
    "        rsrs_w_passi = z_score * (r2 ** (2 * std_percent))\n",
    "        \n",
    "        RSRS_w_passi.append(rsrs_w_passi)\n",
    "        \n",
    "        \n",
    "    return RSRS_w_passi"
   ]
  },
  {
   "cell_type": "code",
   "execution_count": 10,
   "metadata": {},
   "outputs": [],
   "source": [
    "# Maximize Drawback Rate\n",
    "def maxDrawbackRate(prices) -> float:\n",
    "    '''\n",
    "    INPUT：\n",
    "    prices: np.array object. I'm not sure list and tuple will work or not.\n",
    "\n",
    "    OUTPUT：\n",
    "    rt: float，the max drawback rate for given data.\n",
    "    '''\n",
    "    prices = [-p for p in prices]\n",
    "    inf = int(2 << 10)\n",
    "    minprice = inf\n",
    "    maxprofit = 0\n",
    "    for price in prices:\n",
    "        maxprofit = max(price - minprice, maxprofit)\n",
    "        minprice = min(price, minprice)\n",
    "    return maxprofit / minprice"
   ]
  },
  {
   "cell_type": "code",
   "execution_count": 11,
   "metadata": {},
   "outputs": [],
   "source": [
    "# RSRS Statistics Display\n",
    "df_ori = pro.daily(ts_code='000001.SZ', start_date='20000101', end_date='20201231')\n",
    "# df_ori = pro.daily(ts_code='000100.SZ', start_date='20100101', end_date='20201231')\n",
    "\n",
    "df_ori = sqldf(\n",
    "    \"\"\"\n",
    "    SELECT\n",
    "        *\n",
    "    FROM\n",
    "        df_ori\n",
    "    ORDER BY\n",
    "        trade_date ASC\n",
    "    \"\"\"\n",
    ")"
   ]
  },
  {
   "cell_type": "code",
   "execution_count": 12,
   "metadata": {},
   "outputs": [],
   "source": [
    "# Simplest RSRS Approach\n",
    "rsrs_s = calcRSRS_simple(df_ori, N=18)\n",
    "rsrs_s = np.array(rsrs_s)"
   ]
  },
  {
   "cell_type": "code",
   "execution_count": 13,
   "metadata": {},
   "outputs": [],
   "source": [
    "# rsrs_s.shape\n",
    "# rsrs.shape"
   ]
  },
  {
   "cell_type": "code",
   "execution_count": 14,
   "metadata": {},
   "outputs": [],
   "source": [
    "thre_long = 1\n",
    "thre_short = 0.8\n",
    "\n",
    "_is_hold = False\n",
    "virtual_initial_cash = 1000000\n",
    "virtual_cash = virtual_initial_cash\n",
    "virtual_position = 0\n",
    "virtual_value = virtual_initial_cash + 0\n",
    "# Explanation: value = cash + stock = cash + position * price\n",
    "\n",
    "base_position = virtual_initial_cash / df_ori[\"open\"][18]\n",
    "# base: simply buy and hold the stock.\n",
    "\n",
    "ct_long = 0\n",
    "ct_short = 0\n",
    "\n",
    "\n",
    "_value_list_s = []\n",
    "_base_value = []\n",
    "\n",
    "for i in range(len(rsrs_s)):\n",
    "    _p = df_ori[\"open\"][17 + i]\n",
    "    \n",
    "    if rsrs_s[i] >= thre_long and _is_hold == False:\n",
    "        _is_hold = True\n",
    "        ct_long += 1\n",
    "        \n",
    "        virtual_position = 100 * int(virtual_cash / (_p * 100))\n",
    "        virtual_cash -= (virtual_position * _p) \n",
    "        \n",
    "        \n",
    "    if rsrs_s[i] <= thre_short and _is_hold:\n",
    "        _is_hold = False\n",
    "        ct_short += 1\n",
    "        \n",
    "        virtual_cash += (virtual_position * _p)\n",
    "        virtual_position = 0\n",
    "        \n",
    "        \n",
    "    _today_value = virtual_cash + virtual_position * _p\n",
    "    _value_list_s.append(_today_value)\n",
    "    _base_value.append(base_position * _p)"
   ]
  },
  {
   "cell_type": "code",
   "execution_count": 15,
   "metadata": {},
   "outputs": [],
   "source": [
    "# Initial RSRS strategy Sigma Approach\n",
    "rsrs = calcRSRS(df_ori, N=18, M=600)\n",
    "rsrs = np.array(rsrs)"
   ]
  },
  {
   "cell_type": "code",
   "execution_count": 16,
   "metadata": {},
   "outputs": [],
   "source": [
    "thre_long = rsrs.mean() + 1 * rsrs.std()\n",
    "thre_short = rsrs.mean() - 1 * rsrs.std()"
   ]
  },
  {
   "cell_type": "code",
   "execution_count": 17,
   "metadata": {},
   "outputs": [],
   "source": [
    "# Strategy Construction\n",
    "_is_hold = False\n",
    "virtual_initial_cash = 1000000\n",
    "virtual_cash = virtual_initial_cash\n",
    "virtual_position = 0\n",
    "virtual_value = virtual_initial_cash + 0\n",
    "# Explanation: value = cash + stock = cash + position * price\n",
    "\n",
    "base_position = virtual_initial_cash / df_ori[\"open\"][18]\n",
    "# base: simply buy and hold the stock.\n",
    "\n",
    "ct_long = 0\n",
    "ct_short = 0\n",
    "\n",
    "\n",
    "_value_list = []\n",
    "_base_value = []\n",
    "\n",
    "\n",
    "for i in range(len(rsrs)):\n",
    "    _p = df_ori[\"open\"][17 + i]\n",
    "    \n",
    "    if rsrs[i] >= thre_long and _is_hold == False:\n",
    "        _is_hold = True\n",
    "        ct_long += 1\n",
    "    \n",
    "        virtual_position = 100 * int(virtual_cash / (_p * 100))\n",
    "        virtual_cash -= (virtual_position * _p) \n",
    "        \n",
    "    if rsrs[i] <= thre_short and _is_hold:\n",
    "        _is_hold = False\n",
    "        ct_short += 1\n",
    "        \n",
    "        virtual_cash += (virtual_position * _p)\n",
    "        virtual_position = 0\n",
    "        \n",
    "    _today_value = virtual_cash + virtual_position * _p\n",
    "    _value_list.append(_today_value)\n",
    "    _base_value.append(base_position * _p)"
   ]
  },
  {
   "cell_type": "code",
   "execution_count": 18,
   "metadata": {},
   "outputs": [
    {
     "data": {
      "text/plain": [
       "<matplotlib.legend.Legend at 0x7f7fbb462b50>"
      ]
     },
     "execution_count": 18,
     "metadata": {},
     "output_type": "execute_result"
    },
    {
     "data": {
      "image/png": "[encoded data removed]",
      "text/plain": [
       "<Figure size 432x288 with 1 Axes>"
      ]
     },
     "metadata": {
      "needs_background": "light"
     },
     "output_type": "display_data"
    }
   ],
   "source": [
    "x = pd.to_datetime(df_ori.trade_date)[17:]\n",
    "plt.plot(x, _value_list, label=\"RSRS Strategy - Sigma\")\n",
    "plt.plot(x[1:], _value_list_s, label=\"RSRS Strategy - Fix\")\n",
    "plt.plot(x, _base_value, label=\"Stock Buy-and-Hold\")\n",
    "plt.legend(loc='upper left')"
   ]
  },
  {
   "cell_type": "code",
   "execution_count": 19,
   "metadata": {},
   "outputs": [
    {
     "name": "stdout",
     "output_type": "stream",
     "text": [
      "Recent value of portfolio: 23065175.0\n",
      "Long time: 55\n",
      "Short time: 55\n"
     ]
    }
   ],
   "source": [
    "cur_value = _value_list[-1]\n",
    "\n",
    "print(\"Recent value of portfolio:\", cur_value)\n",
    "print(\"Long time:\", ct_long)\n",
    "print(\"Short time:\", ct_short)"
   ]
  },
  {
   "cell_type": "code",
   "execution_count": 20,
   "metadata": {},
   "outputs": [
    {
     "data": {
      "text/plain": [
       "0.3301639071674858"
      ]
     },
     "execution_count": 20,
     "metadata": {},
     "output_type": "execute_result"
    }
   ],
   "source": [
    "# annual return\n",
    "_gain = (cur_value - virtual_value) / virtual_value\n",
    "annual_return = pow((1 + _gain), (1 / 11)) - 1\n",
    "annual_return"
   ]
  },
  {
   "cell_type": "code",
   "execution_count": 21,
   "metadata": {},
   "outputs": [
    {
     "data": {
      "text/plain": [
       "5.310932744878423"
      ]
     },
     "execution_count": 21,
     "metadata": {},
     "output_type": "execute_result"
    }
   ],
   "source": [
    "_base_gain = (_base_value[-1] - virtual_initial_cash) / virtual_initial_cash\n",
    "annual_return_base = pow((1 + _base_gain), (1 / 11)) - 1\n",
    "\n",
    "# tracking error\n",
    "track_err = np.array([(_value_list[i] - _base_value[i]) / virtual_initial_cash\n",
    "                      for i in range(len(_value_list))]).std()\n",
    "track_err"
   ]
  },
  {
   "cell_type": "code",
   "execution_count": 24,
   "metadata": {},
   "outputs": [
    {
     "data": {
      "text/plain": [
       "0.06104989900290666"
      ]
     },
     "execution_count": 24,
     "metadata": {},
     "output_type": "execute_result"
    }
   ],
   "source": [
    "# information ratio\n",
    "info_ratio = (annual_return - annual_return_base) / track_err\n",
    "info_ratio"
   ]
  },
  {
   "cell_type": "code",
   "execution_count": 25,
   "metadata": {},
   "outputs": [
    {
     "data": {
      "text/plain": [
       "-0.16091223786938835"
      ]
     },
     "execution_count": 25,
     "metadata": {},
     "output_type": "execute_result"
    }
   ],
   "source": [
    "maxDrawbackRate(_value_list)"
   ]
  },
  {
   "cell_type": "code",
   "execution_count": 20,
   "metadata": {},
   "outputs": [],
   "source": [
    "# Improvement Method 1\n",
    "# Weighted RSRS strategy\n",
    "rsrs = calcRSRS_w(df_ori, N=18, M=600)\n",
    "rsrs = np.array(rsrs)"
   ]
  },
  {
   "cell_type": "code",
   "execution_count": 21,
   "metadata": {},
   "outputs": [],
   "source": [
    "thre_long = rsrs.mean() + 1 * rsrs.std()\n",
    "thre_short = rsrs.mean() - 1 * rsrs.std()"
   ]
  },
  {
   "cell_type": "code",
   "execution_count": 22,
   "metadata": {},
   "outputs": [],
   "source": [
    "# Strategy Construction\n",
    "_is_hold = False\n",
    "virtual_initial_cash = 1000000\n",
    "virtual_cash = virtual_initial_cash\n",
    "virtual_position = 0\n",
    "virtual_value = virtual_initial_cash + 0\n",
    "# Explanation: value = cash + stock = cash + position * price\n",
    "\n",
    "base_position = virtual_initial_cash / df_ori[\"open\"][18]\n",
    "# base: simply buy and hold the stock.\n",
    "\n",
    "ct_long = 0\n",
    "ct_short = 0\n",
    "\n",
    "\n",
    "_value_list_w = []\n",
    "_base_value = []\n",
    "\n",
    "\n",
    "for i in range(len(rsrs)):\n",
    "    _p = df_ori[\"open\"][17 + i]\n",
    "    \n",
    "    if rsrs[i] >= thre_long and _is_hold == False:\n",
    "        _is_hold = True\n",
    "        ct_long += 1\n",
    "    \n",
    "        virtual_position = 100 * int(virtual_cash / (_p * 100))\n",
    "        virtual_cash -= (virtual_position * _p) \n",
    "        \n",
    "    if rsrs[i] <= thre_short and _is_hold:\n",
    "        _is_hold = False\n",
    "        ct_short += 1\n",
    "        \n",
    "        virtual_cash += (virtual_position * _p)\n",
    "        virtual_position = 0\n",
    "        \n",
    "    _today_value = virtual_cash + virtual_position * _p\n",
    "    _value_list_w.append(_today_value)\n",
    "    _base_value.append(base_position * _p)"
   ]
  },
  {
   "cell_type": "code",
   "execution_count": 23,
   "metadata": {},
   "outputs": [
    {
     "data": {
      "text/plain": [
       "<matplotlib.legend.Legend at 0x7f8a5800ee20>"
      ]
     },
     "execution_count": 23,
     "metadata": {},
     "output_type": "execute_result"
    },
    {
     "data": {
      "image/png": "[encoded data removed]",
      "text/plain": [
       "<Figure size 432x288 with 1 Axes>"
      ]
     },
     "metadata": {
      "needs_background": "light"
     },
     "output_type": "display_data"
    }
   ],
   "source": [
    "x = pd.to_datetime(df_ori.trade_date)[17:]\n",
    "plt.plot(x, _value_list_w, label=\"Weighted RSRS Strategy\")\n",
    "plt.plot(x, _value_list, label=\"RSRS Strategy\")\n",
    "plt.plot(x, _base_value, label=\"Stock Buy-and-Hold\")\n",
    "plt.legend(loc='upper left')"
   ]
  },
  {
   "cell_type": "code",
   "execution_count": 24,
   "metadata": {},
   "outputs": [
    {
     "name": "stdout",
     "output_type": "stream",
     "text": [
      "Recent value of portfolio: 10513710.0\n",
      "Long time: 61\n",
      "Short time: 61\n"
     ]
    }
   ],
   "source": [
    "cur_value = _value_list_w[-1]\n",
    "\n",
    "print(\"Recent value of portfolio:\", cur_value)\n",
    "print(\"Long time:\", ct_long)\n",
    "print(\"Short time:\", ct_short)"
   ]
  },
  {
   "cell_type": "code",
   "execution_count": 25,
   "metadata": {},
   "outputs": [
    {
     "data": {
      "text/plain": [
       "0.2384740424745868"
      ]
     },
     "execution_count": 25,
     "metadata": {},
     "output_type": "execute_result"
    }
   ],
   "source": [
    "# annual return\n",
    "_gain = (cur_value - virtual_value) / virtual_value\n",
    "annual_return = pow((1 + _gain), (1 / 11)) - 1\n",
    "annual_return"
   ]
  },
  {
   "cell_type": "code",
   "execution_count": 26,
   "metadata": {},
   "outputs": [
    {
     "data": {
      "text/plain": [
       "2.273384256923645"
      ]
     },
     "execution_count": 26,
     "metadata": {},
     "output_type": "execute_result"
    }
   ],
   "source": [
    "_base_gain = (_base_value[-1] - virtual_initial_cash) / virtual_initial_cash\n",
    "annual_return_base = pow((1 + _base_gain), (1 / 11)) - 1\n",
    "\n",
    "# tracking error\n",
    "track_err = np.array([(_value_list_w[i] - _base_value[i]) / virtual_initial_cash\n",
    "                      for i in range(len(_value_list_w))]).std()\n",
    "track_err"
   ]
  },
  {
   "cell_type": "code",
   "execution_count": 27,
   "metadata": {},
   "outputs": [
    {
     "data": {
      "text/plain": [
       "0.10228892994439738"
      ]
     },
     "execution_count": 27,
     "metadata": {},
     "output_type": "execute_result"
    }
   ],
   "source": [
    "# information ratio\n",
    "info_ratio = (annual_return - annual_return_base) / track_err\n",
    "info_ratio"
   ]
  },
  {
   "cell_type": "code",
   "execution_count": 28,
   "metadata": {},
   "outputs": [
    {
     "data": {
      "text/plain": [
       "-0.16091223786938835"
      ]
     },
     "execution_count": 28,
     "metadata": {},
     "output_type": "execute_result"
    }
   ],
   "source": [
    "maxDrawbackRate(_value_list)"
   ]
  },
  {
   "cell_type": "code",
   "execution_count": 29,
   "metadata": {},
   "outputs": [],
   "source": [
    "# Improvement Method 2\n",
    "# Passivated RSRS strategy\n",
    "rsrs = calcRSRS_passi(df_ori, N=18, M=600)\n",
    "rsrs = np.array(rsrs)"
   ]
  },
  {
   "cell_type": "code",
   "execution_count": 30,
   "metadata": {},
   "outputs": [],
   "source": [
    "thre_long = rsrs.mean() + 1 * rsrs.std()\n",
    "thre_short = rsrs.mean() - 1 * rsrs.std()"
   ]
  },
  {
   "cell_type": "code",
   "execution_count": 31,
   "metadata": {},
   "outputs": [],
   "source": [
    "# Strategy Construction\n",
    "_is_hold = False\n",
    "virtual_initial_cash = 1000000\n",
    "virtual_cash = virtual_initial_cash\n",
    "virtual_position = 0\n",
    "virtual_value = virtual_initial_cash + 0\n",
    "# Explanation: value = cash + stock = cash + position * price\n",
    "\n",
    "base_position = virtual_initial_cash / df_ori[\"open\"][18]\n",
    "# base: simply buy and hold the stock.\n",
    "\n",
    "ct_long = 0\n",
    "ct_short = 0\n",
    "\n",
    "\n",
    "_value_list_passi = []\n",
    "_base_value = []\n",
    "\n",
    "\n",
    "for i in range(len(rsrs)):\n",
    "    _p = df_ori[\"open\"][17 + i]\n",
    "    \n",
    "    if rsrs[i] >= thre_long and _is_hold == False:\n",
    "        _is_hold = True\n",
    "        ct_long += 1\n",
    "    \n",
    "        virtual_position = 100 * int(virtual_cash / (_p * 100))\n",
    "        virtual_cash -= (virtual_position * _p) \n",
    "        \n",
    "    if rsrs[i] <= thre_short and _is_hold:\n",
    "        _is_hold = False\n",
    "        ct_short += 1\n",
    "        \n",
    "        virtual_cash += (virtual_position * _p)\n",
    "        virtual_position = 0\n",
    "        \n",
    "    _today_value = virtual_cash + virtual_position * _p\n",
    "    _value_list_passi.append(_today_value)\n",
    "    _base_value.append(base_position * _p)"
   ]
  },
  {
   "cell_type": "code",
   "execution_count": 32,
   "metadata": {},
   "outputs": [
    {
     "data": {
      "text/plain": [
       "<matplotlib.legend.Legend at 0x7f8a57c0fdf0>"
      ]
     },
     "execution_count": 32,
     "metadata": {},
     "output_type": "execute_result"
    },
    {
     "data": {
      "image/png": "[encoded data removed]",
      "text/plain": [
       "<Figure size 432x288 with 1 Axes>"
      ]
     },
     "metadata": {
      "needs_background": "light"
     },
     "output_type": "display_data"
    }
   ],
   "source": [
    "x = pd.to_datetime(df_ori.trade_date)[17:]\n",
    "plt.plot(x, _value_list_passi, label=\"Passivated RSRS Strategy\")\n",
    "plt.plot(x, _value_list, label=\"RSRS Strategy\")\n",
    "plt.plot(x, _base_value, label=\"Stock Buy-and-Hold\")\n",
    "plt.legend(loc='upper left')"
   ]
  },
  {
   "cell_type": "code",
   "execution_count": 33,
   "metadata": {},
   "outputs": [
    {
     "name": "stdout",
     "output_type": "stream",
     "text": [
      "Recent value of portfolio: 44593217.0\n",
      "Long time: 53\n",
      "Short time: 53\n"
     ]
    }
   ],
   "source": [
    "cur_value = _value_list_passi[-1]\n",
    "\n",
    "print(\"Recent value of portfolio:\", cur_value)\n",
    "print(\"Long time:\", ct_long)\n",
    "print(\"Short time:\", ct_short)"
   ]
  },
  {
   "cell_type": "code",
   "execution_count": 34,
   "metadata": {},
   "outputs": [
    {
     "data": {
      "text/plain": [
       "0.4123213605874323"
      ]
     },
     "execution_count": 34,
     "metadata": {},
     "output_type": "execute_result"
    }
   ],
   "source": [
    "# annual return\n",
    "_gain = (cur_value - virtual_value) / virtual_value\n",
    "annual_return = pow((1 + _gain), (1 / 11)) - 1\n",
    "annual_return"
   ]
  },
  {
   "cell_type": "code",
   "execution_count": 35,
   "metadata": {},
   "outputs": [
    {
     "data": {
      "text/plain": [
       "10.152731872096862"
      ]
     },
     "execution_count": 35,
     "metadata": {},
     "output_type": "execute_result"
    }
   ],
   "source": [
    "_base_gain = (_base_value[-1] - virtual_initial_cash) / virtual_initial_cash\n",
    "annual_return_base = pow((1 + _base_gain), (1 / 11)) - 1\n",
    "\n",
    "# tracking error\n",
    "track_err = np.array([(_value_list_passi[i] - _base_value[i]) / virtual_initial_cash\n",
    "                      for i in range(len(_value_list_passi))]).std()\n",
    "track_err"
   ]
  },
  {
   "cell_type": "code",
   "execution_count": 36,
   "metadata": {},
   "outputs": [
    {
     "data": {
      "text/plain": [
       "0.040027587276573254"
      ]
     },
     "execution_count": 36,
     "metadata": {},
     "output_type": "execute_result"
    }
   ],
   "source": [
    "# information ratio\n",
    "info_ratio = (annual_return - annual_return_base) / track_err\n",
    "info_ratio"
   ]
  },
  {
   "cell_type": "code",
   "execution_count": 37,
   "metadata": {},
   "outputs": [
    {
     "data": {
      "text/plain": [
       "-0.15628503076784298"
      ]
     },
     "execution_count": 37,
     "metadata": {},
     "output_type": "execute_result"
    }
   ],
   "source": [
    "maxDrawbackRate(_value_list_passi)"
   ]
  },
  {
   "cell_type": "code",
   "execution_count": null,
   "metadata": {},
   "outputs": [],
   "source": []
  },
  {
   "cell_type": "code",
   "execution_count": 84,
   "metadata": {},
   "outputs": [],
   "source": [
    "# Improvement Method 3\n",
    "# Passivated RSRS strategy (Weighted by volumes)\n",
    "rsrs = calcRSRS_w_passi(df_ori, N=18, M=600)\n",
    "rsrs = np.array(rsrs)"
   ]
  },
  {
   "cell_type": "code",
   "execution_count": 85,
   "metadata": {},
   "outputs": [],
   "source": [
    "thre_long = rsrs.mean() + 1 * rsrs.std()\n",
    "thre_short = rsrs.mean() - 1 * rsrs.std()"
   ]
  },
  {
   "cell_type": "code",
   "execution_count": 86,
   "metadata": {},
   "outputs": [],
   "source": [
    "# Strategy Construction\n",
    "_is_hold = False\n",
    "virtual_initial_cash = 1000000\n",
    "virtual_cash = virtual_initial_cash\n",
    "virtual_position = 0\n",
    "virtual_value = virtual_initial_cash + 0\n",
    "# Explanation: value = cash + stock = cash + position * price\n",
    "\n",
    "base_position = virtual_initial_cash / df_ori[\"open\"][18]\n",
    "# base: simply buy and hold the stock.\n",
    "\n",
    "ct_long = 0\n",
    "ct_short = 0\n",
    "\n",
    "\n",
    "_value_list_w_passi = []\n",
    "_base_value = []\n",
    "\n",
    "\n",
    "for i in range(len(rsrs)):\n",
    "    _p = df_ori[\"open\"][17 + i]\n",
    "    \n",
    "    if rsrs[i] >= thre_long and _is_hold == False:\n",
    "        _is_hold = True\n",
    "        ct_long += 1\n",
    "    \n",
    "        virtual_position = 100 * int(virtual_cash / (_p * 100))\n",
    "        virtual_cash -= (virtual_position * _p) \n",
    "        \n",
    "    if rsrs[i] <= thre_short and _is_hold:\n",
    "        _is_hold = False\n",
    "        ct_short += 1\n",
    "        \n",
    "        virtual_cash += (virtual_position * _p)\n",
    "        virtual_position = 0\n",
    "        \n",
    "    _today_value = virtual_cash + virtual_position * _p\n",
    "    _value_list_w_passi.append(_today_value)\n",
    "    _base_value.append(base_position * _p)"
   ]
  },
  {
   "cell_type": "code",
   "execution_count": 89,
   "metadata": {},
   "outputs": [
    {
     "data": {
      "text/plain": [
       "<matplotlib.legend.Legend at 0x7ff1be9280d0>"
      ]
     },
     "execution_count": 89,
     "metadata": {},
     "output_type": "execute_result"
    },
    {
     "data": {
      "image/png": "[encoded data removed]",
      "text/plain": [
       "<Figure size 432x288 with 1 Axes>"
      ]
     },
     "metadata": {
      "needs_background": "light"
     },
     "output_type": "display_data"
    }
   ],
   "source": [
    "x = pd.to_datetime(df_ori.trade_date)[17:]\n",
    "plt.plot(x, _value_list_w_passi, label=\"Passivated RSRS Strategy(Weighted)\")\n",
    "plt.plot(x, _value_list, label=\"RSRS Strategy\")\n",
    "plt.plot(x, _base_value, label=\"Stock Buy-and-Hold\")\n",
    "plt.legend(loc='upper left')"
   ]
  },
  {
   "cell_type": "code",
   "execution_count": 95,
   "metadata": {},
   "outputs": [
    {
     "name": "stdout",
     "output_type": "stream",
     "text": [
      "Recent value of portfolio: 9162120.0\n",
      "Long time: 55\n",
      "Short time: 55\n"
     ]
    }
   ],
   "source": [
    "cur_value = _value_list_w_passi[-1]\n",
    "\n",
    "print(\"Recent value of portfolio:\", cur_value)\n",
    "print(\"Long time:\", ct_long)\n",
    "print(\"Short time:\", ct_short)"
   ]
  },
  {
   "cell_type": "code",
   "execution_count": 96,
   "metadata": {},
   "outputs": [
    {
     "data": {
      "text/plain": [
       "0.22307807094011145"
      ]
     },
     "execution_count": 96,
     "metadata": {},
     "output_type": "execute_result"
    }
   ],
   "source": [
    "# annual return\n",
    "_gain = (cur_value - virtual_value) / virtual_value\n",
    "annual_return = pow((1 + _gain), (1 / 11)) - 1\n",
    "annual_return"
   ]
  },
  {
   "cell_type": "code",
   "execution_count": 98,
   "metadata": {},
   "outputs": [
    {
     "data": {
      "text/plain": [
       "1.9694804239883061"
      ]
     },
     "execution_count": 98,
     "metadata": {},
     "output_type": "execute_result"
    }
   ],
   "source": [
    "_base_gain = (_base_value[-1] - virtual_initial_cash) / virtual_initial_cash\n",
    "annual_return_base = pow((1 + _base_gain), (1 / 11)) - 1\n",
    "\n",
    "# tracking error\n",
    "track_err = np.array([(_value_list_w_passi[i] - _base_value[i]) / virtual_initial_cash\n",
    "                      for i in range(len(_value_list_w_passi))]).std()\n",
    "track_err"
   ]
  },
  {
   "cell_type": "code",
   "execution_count": 99,
   "metadata": {},
   "outputs": [
    {
     "data": {
      "text/plain": [
       "0.11025551146070826"
      ]
     },
     "execution_count": 99,
     "metadata": {},
     "output_type": "execute_result"
    }
   ],
   "source": [
    "# information ratio\n",
    "info_ratio = (annual_return - annual_return_base) / track_err\n",
    "info_ratio"
   ]
  },
  {
   "cell_type": "code",
   "execution_count": 100,
   "metadata": {},
   "outputs": [
    {
     "data": {
      "text/plain": [
       "-0.16320735935763225"
      ]
     },
     "execution_count": 100,
     "metadata": {},
     "output_type": "execute_result"
    }
   ],
   "source": [
    "maxDrawbackRate(_value_list_w_passi)"
   ]
  }
 ],
 "metadata": {
  "kernelspec": {
   "display_name": "Python 3",
   "language": "python",
   "name": "python3"
  },
  "language_info": {
   "codemirror_mode": {
    "name": "ipython",
    "version": 3
   },
   "file_extension": ".py",
   "mimetype": "text/x-python",
   "name": "python",
   "nbconvert_exporter": "python",
   "pygments_lexer": "ipython3",
   "version": "3.8.6"
  }
 },
 "nbformat": 4,
 "nbformat_minor": 4
}
